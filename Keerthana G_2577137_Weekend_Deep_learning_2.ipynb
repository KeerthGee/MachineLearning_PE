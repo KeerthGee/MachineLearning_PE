{
 "cells": [
  {
   "cell_type": "markdown",
   "id": "23051924",
   "metadata": {},
   "source": [
    "# Predicting house prices with Neural Network"
   ]
  },
  {
   "cell_type": "code",
   "execution_count": 1,
   "id": "d6061530",
   "metadata": {},
   "outputs": [],
   "source": [
    "import pandas as pd"
   ]
  },
  {
   "cell_type": "code",
   "execution_count": 2,
   "id": "06acdbb6",
   "metadata": {},
   "outputs": [
    {
     "data": {
      "text/html": [
       "<div>\n",
       "<style scoped>\n",
       "    .dataframe tbody tr th:only-of-type {\n",
       "        vertical-align: middle;\n",
       "    }\n",
       "\n",
       "    .dataframe tbody tr th {\n",
       "        vertical-align: top;\n",
       "    }\n",
       "\n",
       "    .dataframe thead th {\n",
       "        text-align: right;\n",
       "    }\n",
       "</style>\n",
       "<table border=\"1\" class=\"dataframe\">\n",
       "  <thead>\n",
       "    <tr style=\"text-align: right;\">\n",
       "      <th></th>\n",
       "      <th>LotArea</th>\n",
       "      <th>OverallQual</th>\n",
       "      <th>OverallCond</th>\n",
       "      <th>TotalBsmtSF</th>\n",
       "      <th>FullBath</th>\n",
       "      <th>HalfBath</th>\n",
       "      <th>BedroomAbvGr</th>\n",
       "      <th>TotRmsAbvGrd</th>\n",
       "      <th>Fireplaces</th>\n",
       "      <th>GarageArea</th>\n",
       "      <th>AboveMedianPrice</th>\n",
       "    </tr>\n",
       "  </thead>\n",
       "  <tbody>\n",
       "    <tr>\n",
       "      <th>0</th>\n",
       "      <td>8450</td>\n",
       "      <td>7</td>\n",
       "      <td>5</td>\n",
       "      <td>856</td>\n",
       "      <td>2</td>\n",
       "      <td>1</td>\n",
       "      <td>3</td>\n",
       "      <td>8</td>\n",
       "      <td>0</td>\n",
       "      <td>548</td>\n",
       "      <td>1</td>\n",
       "    </tr>\n",
       "    <tr>\n",
       "      <th>1</th>\n",
       "      <td>9600</td>\n",
       "      <td>6</td>\n",
       "      <td>8</td>\n",
       "      <td>1262</td>\n",
       "      <td>2</td>\n",
       "      <td>0</td>\n",
       "      <td>3</td>\n",
       "      <td>6</td>\n",
       "      <td>1</td>\n",
       "      <td>460</td>\n",
       "      <td>1</td>\n",
       "    </tr>\n",
       "    <tr>\n",
       "      <th>2</th>\n",
       "      <td>11250</td>\n",
       "      <td>7</td>\n",
       "      <td>5</td>\n",
       "      <td>920</td>\n",
       "      <td>2</td>\n",
       "      <td>1</td>\n",
       "      <td>3</td>\n",
       "      <td>6</td>\n",
       "      <td>1</td>\n",
       "      <td>608</td>\n",
       "      <td>1</td>\n",
       "    </tr>\n",
       "    <tr>\n",
       "      <th>3</th>\n",
       "      <td>9550</td>\n",
       "      <td>7</td>\n",
       "      <td>5</td>\n",
       "      <td>756</td>\n",
       "      <td>1</td>\n",
       "      <td>0</td>\n",
       "      <td>3</td>\n",
       "      <td>7</td>\n",
       "      <td>1</td>\n",
       "      <td>642</td>\n",
       "      <td>0</td>\n",
       "    </tr>\n",
       "    <tr>\n",
       "      <th>4</th>\n",
       "      <td>14260</td>\n",
       "      <td>8</td>\n",
       "      <td>5</td>\n",
       "      <td>1145</td>\n",
       "      <td>2</td>\n",
       "      <td>1</td>\n",
       "      <td>4</td>\n",
       "      <td>9</td>\n",
       "      <td>1</td>\n",
       "      <td>836</td>\n",
       "      <td>1</td>\n",
       "    </tr>\n",
       "    <tr>\n",
       "      <th>...</th>\n",
       "      <td>...</td>\n",
       "      <td>...</td>\n",
       "      <td>...</td>\n",
       "      <td>...</td>\n",
       "      <td>...</td>\n",
       "      <td>...</td>\n",
       "      <td>...</td>\n",
       "      <td>...</td>\n",
       "      <td>...</td>\n",
       "      <td>...</td>\n",
       "      <td>...</td>\n",
       "    </tr>\n",
       "    <tr>\n",
       "      <th>1455</th>\n",
       "      <td>7917</td>\n",
       "      <td>6</td>\n",
       "      <td>5</td>\n",
       "      <td>953</td>\n",
       "      <td>2</td>\n",
       "      <td>1</td>\n",
       "      <td>3</td>\n",
       "      <td>7</td>\n",
       "      <td>1</td>\n",
       "      <td>460</td>\n",
       "      <td>1</td>\n",
       "    </tr>\n",
       "    <tr>\n",
       "      <th>1456</th>\n",
       "      <td>13175</td>\n",
       "      <td>6</td>\n",
       "      <td>6</td>\n",
       "      <td>1542</td>\n",
       "      <td>2</td>\n",
       "      <td>0</td>\n",
       "      <td>3</td>\n",
       "      <td>7</td>\n",
       "      <td>2</td>\n",
       "      <td>500</td>\n",
       "      <td>1</td>\n",
       "    </tr>\n",
       "    <tr>\n",
       "      <th>1457</th>\n",
       "      <td>9042</td>\n",
       "      <td>7</td>\n",
       "      <td>9</td>\n",
       "      <td>1152</td>\n",
       "      <td>2</td>\n",
       "      <td>0</td>\n",
       "      <td>4</td>\n",
       "      <td>9</td>\n",
       "      <td>2</td>\n",
       "      <td>252</td>\n",
       "      <td>1</td>\n",
       "    </tr>\n",
       "    <tr>\n",
       "      <th>1458</th>\n",
       "      <td>9717</td>\n",
       "      <td>5</td>\n",
       "      <td>6</td>\n",
       "      <td>1078</td>\n",
       "      <td>1</td>\n",
       "      <td>0</td>\n",
       "      <td>2</td>\n",
       "      <td>5</td>\n",
       "      <td>0</td>\n",
       "      <td>240</td>\n",
       "      <td>0</td>\n",
       "    </tr>\n",
       "    <tr>\n",
       "      <th>1459</th>\n",
       "      <td>9937</td>\n",
       "      <td>5</td>\n",
       "      <td>6</td>\n",
       "      <td>1256</td>\n",
       "      <td>1</td>\n",
       "      <td>1</td>\n",
       "      <td>3</td>\n",
       "      <td>6</td>\n",
       "      <td>0</td>\n",
       "      <td>276</td>\n",
       "      <td>0</td>\n",
       "    </tr>\n",
       "  </tbody>\n",
       "</table>\n",
       "<p>1460 rows × 11 columns</p>\n",
       "</div>"
      ],
      "text/plain": [
       "      LotArea  OverallQual  OverallCond  TotalBsmtSF  FullBath  HalfBath  \\\n",
       "0        8450            7            5          856         2         1   \n",
       "1        9600            6            8         1262         2         0   \n",
       "2       11250            7            5          920         2         1   \n",
       "3        9550            7            5          756         1         0   \n",
       "4       14260            8            5         1145         2         1   \n",
       "...       ...          ...          ...          ...       ...       ...   \n",
       "1455     7917            6            5          953         2         1   \n",
       "1456    13175            6            6         1542         2         0   \n",
       "1457     9042            7            9         1152         2         0   \n",
       "1458     9717            5            6         1078         1         0   \n",
       "1459     9937            5            6         1256         1         1   \n",
       "\n",
       "      BedroomAbvGr  TotRmsAbvGrd  Fireplaces  GarageArea  AboveMedianPrice  \n",
       "0                3             8           0         548                 1  \n",
       "1                3             6           1         460                 1  \n",
       "2                3             6           1         608                 1  \n",
       "3                3             7           1         642                 0  \n",
       "4                4             9           1         836                 1  \n",
       "...            ...           ...         ...         ...               ...  \n",
       "1455             3             7           1         460                 1  \n",
       "1456             3             7           2         500                 1  \n",
       "1457             4             9           2         252                 1  \n",
       "1458             2             5           0         240                 0  \n",
       "1459             3             6           0         276                 0  \n",
       "\n",
       "[1460 rows x 11 columns]"
      ]
     },
     "execution_count": 2,
     "metadata": {},
     "output_type": "execute_result"
    }
   ],
   "source": [
    "df = pd.read_csv('housepricedata.csv')\n",
    "df"
   ]
  },
  {
   "cell_type": "code",
   "execution_count": 3,
   "id": "3bd51f5c",
   "metadata": {},
   "outputs": [],
   "source": [
    "dataset = df.values"
   ]
  },
  {
   "cell_type": "code",
   "execution_count": 4,
   "id": "b6bb37e8",
   "metadata": {},
   "outputs": [
    {
     "data": {
      "text/plain": [
       "array([[ 8450,     7,     5, ...,     0,   548,     1],\n",
       "       [ 9600,     6,     8, ...,     1,   460,     1],\n",
       "       [11250,     7,     5, ...,     1,   608,     1],\n",
       "       ...,\n",
       "       [ 9042,     7,     9, ...,     2,   252,     1],\n",
       "       [ 9717,     5,     6, ...,     0,   240,     0],\n",
       "       [ 9937,     5,     6, ...,     0,   276,     0]], dtype=int64)"
      ]
     },
     "execution_count": 4,
     "metadata": {},
     "output_type": "execute_result"
    }
   ],
   "source": [
    "dataset"
   ]
  },
  {
   "cell_type": "code",
   "execution_count": 5,
   "id": "24591b82",
   "metadata": {},
   "outputs": [],
   "source": [
    "X = dataset[:,0:10]"
   ]
  },
  {
   "cell_type": "code",
   "execution_count": 6,
   "id": "57eece72",
   "metadata": {},
   "outputs": [],
   "source": [
    "Y = dataset[:,10]"
   ]
  },
  {
   "cell_type": "code",
   "execution_count": 7,
   "id": "2df2caef",
   "metadata": {},
   "outputs": [],
   "source": [
    "from sklearn import preprocessing"
   ]
  },
  {
   "cell_type": "code",
   "execution_count": 8,
   "id": "63305475",
   "metadata": {},
   "outputs": [],
   "source": [
    "min_max_scaler = preprocessing.MinMaxScaler()\n",
    "X_scale = min_max_scaler.fit_transform(X)"
   ]
  },
  {
   "cell_type": "code",
   "execution_count": 9,
   "id": "61437cbf",
   "metadata": {},
   "outputs": [
    {
     "data": {
      "text/plain": [
       "array([[0.0334198 , 0.66666667, 0.5       , ..., 0.5       , 0.        ,\n",
       "        0.3864598 ],\n",
       "       [0.03879502, 0.55555556, 0.875     , ..., 0.33333333, 0.33333333,\n",
       "        0.32440056],\n",
       "       [0.04650728, 0.66666667, 0.5       , ..., 0.33333333, 0.33333333,\n",
       "        0.42877292],\n",
       "       ...,\n",
       "       [0.03618687, 0.66666667, 1.        , ..., 0.58333333, 0.66666667,\n",
       "        0.17771509],\n",
       "       [0.03934189, 0.44444444, 0.625     , ..., 0.25      , 0.        ,\n",
       "        0.16925247],\n",
       "       [0.04037019, 0.44444444, 0.625     , ..., 0.33333333, 0.        ,\n",
       "        0.19464034]])"
      ]
     },
     "execution_count": 9,
     "metadata": {},
     "output_type": "execute_result"
    }
   ],
   "source": [
    "X_scale"
   ]
  },
  {
   "cell_type": "code",
   "execution_count": 10,
   "id": "2c06cb47",
   "metadata": {},
   "outputs": [],
   "source": [
    "from sklearn.model_selection import train_test_split"
   ]
  },
  {
   "cell_type": "code",
   "execution_count": 11,
   "id": "045b3451",
   "metadata": {},
   "outputs": [],
   "source": [
    "X_train, X_val_and_test, Y_train, Y_val_and_test = train_test_split(X_scale, Y, test_size=0.3)"
   ]
  },
  {
   "cell_type": "code",
   "execution_count": 12,
   "id": "d7c1ef16",
   "metadata": {},
   "outputs": [],
   "source": [
    "X_val, X_test, Y_val, Y_test = train_test_split(X_val_and_test, Y_val_and_test, test_size=0.5)"
   ]
  },
  {
   "cell_type": "code",
   "execution_count": 13,
   "id": "8b2ca51a",
   "metadata": {},
   "outputs": [
    {
     "name": "stdout",
     "output_type": "stream",
     "text": [
      "(1022, 10) (219, 10) (219, 10) (1022,) (219,) (219,)\n"
     ]
    }
   ],
   "source": [
    "print(X_train.shape, X_val.shape, X_test.shape, Y_train.shape, Y_val.shape, Y_test.shape)"
   ]
  },
  {
   "cell_type": "code",
   "execution_count": 14,
   "id": "4db666ec",
   "metadata": {},
   "outputs": [],
   "source": [
    "from keras.models import Sequential\n",
    "from keras.layers import Dense"
   ]
  },
  {
   "cell_type": "code",
   "execution_count": 15,
   "id": "d038285a",
   "metadata": {},
   "outputs": [],
   "source": [
    "model = Sequential([\n",
    "    Dense(32, activation='relu', input_shape=(10,)),\n",
    "    Dense(32, activation='relu'),\n",
    "    Dense(1, activation='sigmoid'),\n",
    "])"
   ]
  },
  {
   "cell_type": "code",
   "execution_count": 16,
   "id": "3fc60418",
   "metadata": {},
   "outputs": [],
   "source": [
    "model.compile(optimizer='sgd',\n",
    "              loss='binary_crossentropy',\n",
    "              metrics=['accuracy'])"
   ]
  },
  {
   "cell_type": "code",
   "execution_count": 17,
   "id": "52542757",
   "metadata": {},
   "outputs": [
    {
     "name": "stdout",
     "output_type": "stream",
     "text": [
      "Epoch 1/100\n",
      "32/32 [==============================] - 2s 19ms/step - loss: 0.7025 - accuracy: 0.4041 - val_loss: 0.6962 - val_accuracy: 0.4338\n",
      "Epoch 2/100\n",
      "32/32 [==============================] - 0s 6ms/step - loss: 0.6936 - accuracy: 0.4080 - val_loss: 0.6907 - val_accuracy: 0.4201\n",
      "Epoch 3/100\n",
      "32/32 [==============================] - 0s 6ms/step - loss: 0.6895 - accuracy: 0.5029 - val_loss: 0.6878 - val_accuracy: 0.5434\n",
      "Epoch 4/100\n",
      "32/32 [==============================] - 0s 7ms/step - loss: 0.6866 - accuracy: 0.5646 - val_loss: 0.6853 - val_accuracy: 0.5479\n",
      "Epoch 5/100\n",
      "32/32 [==============================] - 0s 6ms/step - loss: 0.6840 - accuracy: 0.5626 - val_loss: 0.6829 - val_accuracy: 0.5434\n",
      "Epoch 6/100\n",
      "32/32 [==============================] - 0s 7ms/step - loss: 0.6815 - accuracy: 0.5538 - val_loss: 0.6807 - val_accuracy: 0.5434\n",
      "Epoch 7/100\n",
      "32/32 [==============================] - 0s 7ms/step - loss: 0.6791 - accuracy: 0.5548 - val_loss: 0.6785 - val_accuracy: 0.5342\n",
      "Epoch 8/100\n",
      "32/32 [==============================] - 0s 6ms/step - loss: 0.6767 - accuracy: 0.5479 - val_loss: 0.6763 - val_accuracy: 0.5342\n",
      "Epoch 9/100\n",
      "32/32 [==============================] - 0s 6ms/step - loss: 0.6743 - accuracy: 0.5479 - val_loss: 0.6739 - val_accuracy: 0.5342\n",
      "Epoch 10/100\n",
      "32/32 [==============================] - 0s 6ms/step - loss: 0.6716 - accuracy: 0.5460 - val_loss: 0.6715 - val_accuracy: 0.5342\n",
      "Epoch 11/100\n",
      "32/32 [==============================] - 0s 7ms/step - loss: 0.6690 - accuracy: 0.5587 - val_loss: 0.6690 - val_accuracy: 0.5388\n",
      "Epoch 12/100\n",
      "32/32 [==============================] - 0s 7ms/step - loss: 0.6662 - accuracy: 0.5568 - val_loss: 0.6664 - val_accuracy: 0.5434\n",
      "Epoch 13/100\n",
      "32/32 [==============================] - 0s 6ms/step - loss: 0.6634 - accuracy: 0.5646 - val_loss: 0.6637 - val_accuracy: 0.5479\n",
      "Epoch 14/100\n",
      "32/32 [==============================] - 0s 6ms/step - loss: 0.6604 - accuracy: 0.5822 - val_loss: 0.6609 - val_accuracy: 0.5753\n",
      "Epoch 15/100\n",
      "32/32 [==============================] - 0s 6ms/step - loss: 0.6574 - accuracy: 0.6213 - val_loss: 0.6580 - val_accuracy: 0.5799\n",
      "Epoch 16/100\n",
      "32/32 [==============================] - 0s 6ms/step - loss: 0.6542 - accuracy: 0.6125 - val_loss: 0.6550 - val_accuracy: 0.6027\n",
      "Epoch 17/100\n",
      "32/32 [==============================] - 0s 7ms/step - loss: 0.6510 - accuracy: 0.6624 - val_loss: 0.6519 - val_accuracy: 0.6256\n",
      "Epoch 18/100\n",
      "32/32 [==============================] - 0s 6ms/step - loss: 0.6478 - accuracy: 0.6595 - val_loss: 0.6486 - val_accuracy: 0.6575\n",
      "Epoch 19/100\n",
      "32/32 [==============================] - 0s 6ms/step - loss: 0.6443 - accuracy: 0.7065 - val_loss: 0.6452 - val_accuracy: 0.6667\n",
      "Epoch 20/100\n",
      "32/32 [==============================] - 0s 6ms/step - loss: 0.6406 - accuracy: 0.7290 - val_loss: 0.6416 - val_accuracy: 0.6804\n",
      "Epoch 21/100\n",
      "32/32 [==============================] - 0s 6ms/step - loss: 0.6368 - accuracy: 0.7348 - val_loss: 0.6379 - val_accuracy: 0.7032\n",
      "Epoch 22/100\n",
      "32/32 [==============================] - 0s 7ms/step - loss: 0.6328 - accuracy: 0.7466 - val_loss: 0.6339 - val_accuracy: 0.7260\n",
      "Epoch 23/100\n",
      "32/32 [==============================] - 0s 6ms/step - loss: 0.6286 - accuracy: 0.7632 - val_loss: 0.6298 - val_accuracy: 0.7352\n",
      "Epoch 24/100\n",
      "32/32 [==============================] - 0s 7ms/step - loss: 0.6241 - accuracy: 0.7769 - val_loss: 0.6254 - val_accuracy: 0.7443\n",
      "Epoch 25/100\n",
      "32/32 [==============================] - 0s 6ms/step - loss: 0.6195 - accuracy: 0.7867 - val_loss: 0.6209 - val_accuracy: 0.7580\n",
      "Epoch 26/100\n",
      "32/32 [==============================] - 0s 7ms/step - loss: 0.6146 - accuracy: 0.7945 - val_loss: 0.6161 - val_accuracy: 0.7626\n",
      "Epoch 27/100\n",
      "32/32 [==============================] - 0s 6ms/step - loss: 0.6094 - accuracy: 0.7945 - val_loss: 0.6110 - val_accuracy: 0.7717\n",
      "Epoch 28/100\n",
      "32/32 [==============================] - 0s 7ms/step - loss: 0.6040 - accuracy: 0.8072 - val_loss: 0.6058 - val_accuracy: 0.7717\n",
      "Epoch 29/100\n",
      "32/32 [==============================] - 0s 6ms/step - loss: 0.5985 - accuracy: 0.8102 - val_loss: 0.6003 - val_accuracy: 0.7763\n",
      "Epoch 30/100\n",
      "32/32 [==============================] - 0s 6ms/step - loss: 0.5925 - accuracy: 0.8092 - val_loss: 0.5945 - val_accuracy: 0.7900\n",
      "Epoch 31/100\n",
      "32/32 [==============================] - 0s 8ms/step - loss: 0.5865 - accuracy: 0.8160 - val_loss: 0.5886 - val_accuracy: 0.7945\n",
      "Epoch 32/100\n",
      "32/32 [==============================] - 0s 7ms/step - loss: 0.5801 - accuracy: 0.8151 - val_loss: 0.5824 - val_accuracy: 0.8128\n",
      "Epoch 33/100\n",
      "32/32 [==============================] - 0s 7ms/step - loss: 0.5736 - accuracy: 0.8258 - val_loss: 0.5761 - val_accuracy: 0.8174\n",
      "Epoch 34/100\n",
      "32/32 [==============================] - 0s 7ms/step - loss: 0.5669 - accuracy: 0.8297 - val_loss: 0.5697 - val_accuracy: 0.8174\n",
      "Epoch 35/100\n",
      "32/32 [==============================] - 0s 8ms/step - loss: 0.5599 - accuracy: 0.8327 - val_loss: 0.5630 - val_accuracy: 0.8219\n",
      "Epoch 36/100\n",
      "32/32 [==============================] - 0s 7ms/step - loss: 0.5529 - accuracy: 0.8346 - val_loss: 0.5561 - val_accuracy: 0.8174\n",
      "Epoch 37/100\n",
      "32/32 [==============================] - 0s 7ms/step - loss: 0.5455 - accuracy: 0.8386 - val_loss: 0.5492 - val_accuracy: 0.8174\n",
      "Epoch 38/100\n",
      "32/32 [==============================] - 0s 6ms/step - loss: 0.5381 - accuracy: 0.8493 - val_loss: 0.5422 - val_accuracy: 0.8174\n",
      "Epoch 39/100\n",
      "32/32 [==============================] - 0s 6ms/step - loss: 0.5306 - accuracy: 0.8425 - val_loss: 0.5347 - val_accuracy: 0.8311\n",
      "Epoch 40/100\n",
      "32/32 [==============================] - 0s 8ms/step - loss: 0.5230 - accuracy: 0.8493 - val_loss: 0.5272 - val_accuracy: 0.8356\n",
      "Epoch 41/100\n",
      "32/32 [==============================] - 0s 6ms/step - loss: 0.5154 - accuracy: 0.8591 - val_loss: 0.5203 - val_accuracy: 0.8356\n",
      "Epoch 42/100\n",
      "32/32 [==============================] - 0s 7ms/step - loss: 0.5079 - accuracy: 0.8523 - val_loss: 0.5130 - val_accuracy: 0.8356\n",
      "Epoch 43/100\n",
      "32/32 [==============================] - 0s 7ms/step - loss: 0.5001 - accuracy: 0.8562 - val_loss: 0.5056 - val_accuracy: 0.8356\n",
      "Epoch 44/100\n",
      "32/32 [==============================] - 0s 8ms/step - loss: 0.4924 - accuracy: 0.8611 - val_loss: 0.4984 - val_accuracy: 0.8356\n",
      "Epoch 45/100\n",
      "32/32 [==============================] - 0s 7ms/step - loss: 0.4848 - accuracy: 0.8581 - val_loss: 0.4908 - val_accuracy: 0.8447\n",
      "Epoch 46/100\n",
      "32/32 [==============================] - 0s 7ms/step - loss: 0.4773 - accuracy: 0.8571 - val_loss: 0.4834 - val_accuracy: 0.8447\n",
      "Epoch 47/100\n",
      "32/32 [==============================] - 0s 6ms/step - loss: 0.4698 - accuracy: 0.8640 - val_loss: 0.4765 - val_accuracy: 0.8447\n",
      "Epoch 48/100\n",
      "32/32 [==============================] - 0s 7ms/step - loss: 0.4617 - accuracy: 0.8659 - val_loss: 0.4701 - val_accuracy: 0.8311\n",
      "Epoch 49/100\n",
      "32/32 [==============================] - 0s 6ms/step - loss: 0.4541 - accuracy: 0.8650 - val_loss: 0.4626 - val_accuracy: 0.8356\n",
      "Epoch 50/100\n",
      "32/32 [==============================] - 0s 7ms/step - loss: 0.4464 - accuracy: 0.8669 - val_loss: 0.4549 - val_accuracy: 0.8356\n",
      "Epoch 51/100\n",
      "32/32 [==============================] - 0s 7ms/step - loss: 0.4389 - accuracy: 0.8659 - val_loss: 0.4466 - val_accuracy: 0.8493\n",
      "Epoch 52/100\n",
      "32/32 [==============================] - 0s 7ms/step - loss: 0.4312 - accuracy: 0.8757 - val_loss: 0.4393 - val_accuracy: 0.8539\n",
      "Epoch 53/100\n",
      "32/32 [==============================] - 0s 7ms/step - loss: 0.4241 - accuracy: 0.8796 - val_loss: 0.4331 - val_accuracy: 0.8493\n",
      "Epoch 54/100\n",
      "32/32 [==============================] - 0s 6ms/step - loss: 0.4173 - accuracy: 0.8777 - val_loss: 0.4251 - val_accuracy: 0.8630\n",
      "Epoch 55/100\n",
      "32/32 [==============================] - 0s 7ms/step - loss: 0.4106 - accuracy: 0.8806 - val_loss: 0.4202 - val_accuracy: 0.8584\n",
      "Epoch 56/100\n",
      "32/32 [==============================] - 0s 7ms/step - loss: 0.4044 - accuracy: 0.8796 - val_loss: 0.4126 - val_accuracy: 0.8584\n",
      "Epoch 57/100\n",
      "32/32 [==============================] - 0s 7ms/step - loss: 0.3987 - accuracy: 0.8796 - val_loss: 0.4066 - val_accuracy: 0.8539\n",
      "Epoch 58/100\n",
      "32/32 [==============================] - 0s 7ms/step - loss: 0.3932 - accuracy: 0.8796 - val_loss: 0.4026 - val_accuracy: 0.8584\n"
     ]
    },
    {
     "name": "stdout",
     "output_type": "stream",
     "text": [
      "Epoch 59/100\n",
      "32/32 [==============================] - 0s 6ms/step - loss: 0.3881 - accuracy: 0.8816 - val_loss: 0.3975 - val_accuracy: 0.8584\n",
      "Epoch 60/100\n",
      "32/32 [==============================] - 0s 6ms/step - loss: 0.3829 - accuracy: 0.8826 - val_loss: 0.3918 - val_accuracy: 0.8493\n",
      "Epoch 61/100\n",
      "32/32 [==============================] - 0s 6ms/step - loss: 0.3780 - accuracy: 0.8777 - val_loss: 0.3900 - val_accuracy: 0.8584\n",
      "Epoch 62/100\n",
      "32/32 [==============================] - 0s 8ms/step - loss: 0.3736 - accuracy: 0.8826 - val_loss: 0.3832 - val_accuracy: 0.8493\n",
      "Epoch 63/100\n",
      "32/32 [==============================] - 0s 6ms/step - loss: 0.3696 - accuracy: 0.8826 - val_loss: 0.3789 - val_accuracy: 0.8493\n",
      "Epoch 64/100\n",
      "32/32 [==============================] - 0s 6ms/step - loss: 0.3655 - accuracy: 0.8777 - val_loss: 0.3771 - val_accuracy: 0.8584\n",
      "Epoch 65/100\n",
      "32/32 [==============================] - 0s 7ms/step - loss: 0.3618 - accuracy: 0.8845 - val_loss: 0.3729 - val_accuracy: 0.8539\n",
      "Epoch 66/100\n",
      "32/32 [==============================] - 0s 6ms/step - loss: 0.3580 - accuracy: 0.8826 - val_loss: 0.3697 - val_accuracy: 0.8539\n",
      "Epoch 67/100\n",
      "32/32 [==============================] - 0s 6ms/step - loss: 0.3550 - accuracy: 0.8826 - val_loss: 0.3657 - val_accuracy: 0.8493\n",
      "Epoch 68/100\n",
      "32/32 [==============================] - 0s 6ms/step - loss: 0.3512 - accuracy: 0.8757 - val_loss: 0.3629 - val_accuracy: 0.8539\n",
      "Epoch 69/100\n",
      "32/32 [==============================] - 0s 7ms/step - loss: 0.3484 - accuracy: 0.8796 - val_loss: 0.3590 - val_accuracy: 0.8539\n",
      "Epoch 70/100\n",
      "32/32 [==============================] - 0s 7ms/step - loss: 0.3450 - accuracy: 0.8796 - val_loss: 0.3559 - val_accuracy: 0.8539\n",
      "Epoch 71/100\n",
      "32/32 [==============================] - 0s 7ms/step - loss: 0.3422 - accuracy: 0.8816 - val_loss: 0.3530 - val_accuracy: 0.8539\n",
      "Epoch 72/100\n",
      "32/32 [==============================] - 0s 6ms/step - loss: 0.3395 - accuracy: 0.8777 - val_loss: 0.3493 - val_accuracy: 0.8539\n",
      "Epoch 73/100\n",
      "32/32 [==============================] - 0s 7ms/step - loss: 0.3373 - accuracy: 0.8816 - val_loss: 0.3483 - val_accuracy: 0.8539\n",
      "Epoch 74/100\n",
      "32/32 [==============================] - 0s 7ms/step - loss: 0.3345 - accuracy: 0.8796 - val_loss: 0.3450 - val_accuracy: 0.8539\n",
      "Epoch 75/100\n",
      "32/32 [==============================] - 0s 8ms/step - loss: 0.3324 - accuracy: 0.8806 - val_loss: 0.3435 - val_accuracy: 0.8539\n",
      "Epoch 76/100\n",
      "32/32 [==============================] - 0s 7ms/step - loss: 0.3303 - accuracy: 0.8816 - val_loss: 0.3418 - val_accuracy: 0.8539\n",
      "Epoch 77/100\n",
      "32/32 [==============================] - 0s 6ms/step - loss: 0.3283 - accuracy: 0.8826 - val_loss: 0.3385 - val_accuracy: 0.8539\n",
      "Epoch 78/100\n",
      "32/32 [==============================] - 0s 7ms/step - loss: 0.3261 - accuracy: 0.8816 - val_loss: 0.3367 - val_accuracy: 0.8539\n",
      "Epoch 79/100\n",
      "32/32 [==============================] - 0s 7ms/step - loss: 0.3241 - accuracy: 0.8767 - val_loss: 0.3372 - val_accuracy: 0.8539\n",
      "Epoch 80/100\n",
      "32/32 [==============================] - 0s 6ms/step - loss: 0.3224 - accuracy: 0.8826 - val_loss: 0.3349 - val_accuracy: 0.8539\n",
      "Epoch 81/100\n",
      "32/32 [==============================] - 0s 6ms/step - loss: 0.3203 - accuracy: 0.8796 - val_loss: 0.3333 - val_accuracy: 0.8539\n",
      "Epoch 82/100\n",
      "32/32 [==============================] - 0s 6ms/step - loss: 0.3189 - accuracy: 0.8787 - val_loss: 0.3303 - val_accuracy: 0.8539\n",
      "Epoch 83/100\n",
      "32/32 [==============================] - 0s 6ms/step - loss: 0.3172 - accuracy: 0.8816 - val_loss: 0.3270 - val_accuracy: 0.8630\n",
      "Epoch 84/100\n",
      "32/32 [==============================] - 0s 6ms/step - loss: 0.3157 - accuracy: 0.8806 - val_loss: 0.3254 - val_accuracy: 0.8630\n",
      "Epoch 85/100\n",
      "32/32 [==============================] - 0s 7ms/step - loss: 0.3143 - accuracy: 0.8845 - val_loss: 0.3235 - val_accuracy: 0.8721\n",
      "Epoch 86/100\n",
      "32/32 [==============================] - 0s 6ms/step - loss: 0.3130 - accuracy: 0.8777 - val_loss: 0.3251 - val_accuracy: 0.8584\n",
      "Epoch 87/100\n",
      "32/32 [==============================] - 0s 6ms/step - loss: 0.3115 - accuracy: 0.8836 - val_loss: 0.3225 - val_accuracy: 0.8630\n",
      "Epoch 88/100\n",
      "32/32 [==============================] - 0s 6ms/step - loss: 0.3103 - accuracy: 0.8777 - val_loss: 0.3238 - val_accuracy: 0.8539\n",
      "Epoch 89/100\n",
      "32/32 [==============================] - 0s 7ms/step - loss: 0.3095 - accuracy: 0.8796 - val_loss: 0.3205 - val_accuracy: 0.8584\n",
      "Epoch 90/100\n",
      "32/32 [==============================] - 0s 7ms/step - loss: 0.3076 - accuracy: 0.8816 - val_loss: 0.3175 - val_accuracy: 0.8721\n",
      "Epoch 91/100\n",
      "32/32 [==============================] - 0s 6ms/step - loss: 0.3064 - accuracy: 0.8845 - val_loss: 0.3198 - val_accuracy: 0.8584\n",
      "Epoch 92/100\n",
      "32/32 [==============================] - 0s 6ms/step - loss: 0.3059 - accuracy: 0.8826 - val_loss: 0.3177 - val_accuracy: 0.8584\n",
      "Epoch 93/100\n",
      "32/32 [==============================] - 0s 6ms/step - loss: 0.3044 - accuracy: 0.8836 - val_loss: 0.3181 - val_accuracy: 0.8584\n",
      "Epoch 94/100\n",
      "32/32 [==============================] - 0s 7ms/step - loss: 0.3030 - accuracy: 0.8865 - val_loss: 0.3183 - val_accuracy: 0.8584\n",
      "Epoch 95/100\n",
      "32/32 [==============================] - 0s 6ms/step - loss: 0.3023 - accuracy: 0.8816 - val_loss: 0.3144 - val_accuracy: 0.8630\n",
      "Epoch 96/100\n",
      "32/32 [==============================] - 0s 6ms/step - loss: 0.3022 - accuracy: 0.8855 - val_loss: 0.3144 - val_accuracy: 0.8584\n",
      "Epoch 97/100\n",
      "32/32 [==============================] - 0s 6ms/step - loss: 0.3011 - accuracy: 0.8806 - val_loss: 0.3112 - val_accuracy: 0.8676\n",
      "Epoch 98/100\n",
      "32/32 [==============================] - 0s 6ms/step - loss: 0.3006 - accuracy: 0.8836 - val_loss: 0.3119 - val_accuracy: 0.8676\n",
      "Epoch 99/100\n",
      "32/32 [==============================] - 0s 6ms/step - loss: 0.2987 - accuracy: 0.8826 - val_loss: 0.3105 - val_accuracy: 0.8676\n",
      "Epoch 100/100\n",
      "32/32 [==============================] - 0s 6ms/step - loss: 0.2981 - accuracy: 0.8836 - val_loss: 0.3104 - val_accuracy: 0.8676\n"
     ]
    }
   ],
   "source": [
    "hist = model.fit(X_train, Y_train,\n",
    "          batch_size=32, epochs=100,\n",
    "          validation_data=(X_val, Y_val))"
   ]
  },
  {
   "cell_type": "code",
   "execution_count": 18,
   "id": "8f909255",
   "metadata": {},
   "outputs": [
    {
     "name": "stdout",
     "output_type": "stream",
     "text": [
      "7/7 [==============================] - 0s 5ms/step - loss: 0.2731 - accuracy: 0.8813\n"
     ]
    },
    {
     "data": {
      "text/plain": [
       "0.8812785148620605"
      ]
     },
     "execution_count": 18,
     "metadata": {},
     "output_type": "execute_result"
    }
   ],
   "source": [
    "model.evaluate(X_test, Y_test)[1]"
   ]
  },
  {
   "cell_type": "code",
   "execution_count": 19,
   "id": "aa6e6664",
   "metadata": {},
   "outputs": [],
   "source": [
    "import matplotlib.pyplot as plt"
   ]
  },
  {
   "cell_type": "code",
   "execution_count": 20,
   "id": "3b556d6d",
   "metadata": {},
   "outputs": [
    {
     "data": {
      "image/png": "[encoded data removed]",
      "text/plain": [
       "<Figure size 640x480 with 1 Axes>"
      ]
     },
     "metadata": {},
     "output_type": "display_data"
    }
   ],
   "source": [
    "plt.plot(hist.history['loss'])\n",
    "plt.plot(hist.history['val_loss'])\n",
    "plt.title('Model loss')\n",
    "plt.ylabel('Loss')\n",
    "plt.xlabel('Epoch')\n",
    "plt.legend(['Train', 'Val'], loc='upper right')\n",
    "plt.show()"
   ]
  },
  {
   "cell_type": "code",
   "execution_count": null,
   "id": "5f3cb194",
   "metadata": {},
   "outputs": [],
   "source": []
  },
  {
   "cell_type": "code",
   "execution_count": null,
   "id": "af5bba1e",
   "metadata": {},
   "outputs": [],
   "source": []
  },
  {
   "cell_type": "code",
   "execution_count": null,
   "id": "9e915bb6",
   "metadata": {},
   "outputs": [],
   "source": []
  }
 ],
 "metadata": {
  "kernelspec": {
   "display_name": "Python 3 (ipykernel)",
   "language": "python",
   "name": "python3"
  },
  "language_info": {
   "codemirror_mode": {
    "name": "ipython",
    "version": 3
   },
   "file_extension": ".py",
   "mimetype": "text/x-python",
   "name": "python",
   "nbconvert_exporter": "python",
   "pygments_lexer": "ipython3",
   "version": "3.11.4"
  }
 },
 "nbformat": 4,
 "nbformat_minor": 5
}
