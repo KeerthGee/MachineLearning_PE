{
 "cells": [
  {
   "cell_type": "code",
   "execution_count": 1,
   "id": "17a9a72a",
   "metadata": {},
   "outputs": [],
   "source": [
    "import numpy as np"
   ]
  },
  {
   "cell_type": "markdown",
   "id": "7ff3af32",
   "metadata": {},
   "source": [
    "# Construct the Reward matrix"
   ]
  },
  {
   "cell_type": "code",
   "execution_count": 2,
   "id": "01514846",
   "metadata": {},
   "outputs": [
    {
     "name": "stdout",
     "output_type": "stream",
     "text": [
      "[[ -1  -1  -1  -1   0  -1]\n",
      " [ -1  -1  -1   0  -1 100]\n",
      " [ -1  -1  -1   0  -1  -1]\n",
      " [ -1   0   0  -1   0  -1]\n",
      " [ -1   0   0  -1  -1 100]\n",
      " [ -1   0  -1  -1   0 100]]\n"
     ]
    }
   ],
   "source": [
    "R= np.matrix([\n",
    "    \n",
    "    [-1,-1,-1,-1,0,-1],\n",
    "    [-1,-1,-1,0,-1,100],\n",
    "    [-1,-1,-1,0,-1,-1],\n",
    "    [-1,0,0,-1,0,-1],\n",
    "    [-1,0,0,-1,-1,100],\n",
    "    [-1,0,-1,-1,0,100]\n",
    "])\n",
    "print(R)"
   ]
  },
  {
   "cell_type": "markdown",
   "id": "080087af",
   "metadata": {},
   "source": [
    "# Construct the zero matrix of the size of R matrix to form Q matric"
   ]
  },
  {
   "cell_type": "code",
   "execution_count": 3,
   "id": "bf16170c",
   "metadata": {},
   "outputs": [
    {
     "name": "stdout",
     "output_type": "stream",
     "text": [
      "[[0. 0. 0. 0. 0. 0.]\n",
      " [0. 0. 0. 0. 0. 0.]\n",
      " [0. 0. 0. 0. 0. 0.]\n",
      " [0. 0. 0. 0. 0. 0.]\n",
      " [0. 0. 0. 0. 0. 0.]\n",
      " [0. 0. 0. 0. 0. 0.]]\n"
     ]
    }
   ],
   "source": [
    "Q= np.matrix(np.zeros([6,6]))\n",
    "print(Q)"
   ]
  },
  {
   "cell_type": "markdown",
   "id": "80228510",
   "metadata": {},
   "source": [
    "# Define gamma value - Learning Parameter"
   ]
  },
  {
   "cell_type": "code",
   "execution_count": 4,
   "id": "6169d755",
   "metadata": {},
   "outputs": [],
   "source": [
    "gamma=0.8"
   ]
  },
  {
   "cell_type": "markdown",
   "id": "54eef66e",
   "metadata": {},
   "source": [
    "# Q - Learning:\n",
    "    Q(state,action )= R(state,action) +gamma* Max(Q(next state,all actions))"
   ]
  },
  {
   "cell_type": "markdown",
   "id": "2a4148e1",
   "metadata": {},
   "source": [
    "# Initial state(usually to be choosen as random)"
   ]
  },
  {
   "cell_type": "code",
   "execution_count": 5,
   "id": "16fdf4cc",
   "metadata": {},
   "outputs": [],
   "source": [
    "initial_state =1"
   ]
  },
  {
   "cell_type": "markdown",
   "id": "6c16c724",
   "metadata": {},
   "source": [
    "# Define the Available action function:\n",
    "this function returns all the available actions in the state given as an arguments"
   ]
  },
  {
   "cell_type": "code",
   "execution_count": 6,
   "id": "5313c151",
   "metadata": {},
   "outputs": [],
   "source": [
    "def available_act(state):\n",
    "    current_state_row=R[state,]\n",
    "    av_act= np.where(current_state_row>=0)[1]\n",
    "    return av_act"
   ]
  },
  {
   "cell_type": "code",
   "execution_count": 7,
   "id": "f8fe795f",
   "metadata": {},
   "outputs": [
    {
     "name": "stdout",
     "output_type": "stream",
     "text": [
      "[3 5]\n"
     ]
    }
   ],
   "source": [
    "available_act= available_act(initial_state)\n",
    "print(available_act)"
   ]
  },
  {
   "cell_type": "code",
   "execution_count": 8,
   "id": "55499f28",
   "metadata": {},
   "outputs": [],
   "source": [
    "#Define the sample next action funtion\n",
    "\n",
    "def sample_next_action(available_actions_range):\n",
    "    next_action=int(np.random.choice(available_act,1))\n",
    "    return next_action"
   ]
  },
  {
   "cell_type": "code",
   "execution_count": 16,
   "id": "e42fa2ec",
   "metadata": {},
   "outputs": [
    {
     "name": "stdout",
     "output_type": "stream",
     "text": [
      "5\n"
     ]
    }
   ],
   "source": [
    "action = sample_next_action(available_act)\n",
    "print(action)"
   ]
  },
  {
   "cell_type": "markdown",
   "id": "212d4104",
   "metadata": {},
   "source": [
    "# Q Matrix - Update fun"
   ]
  },
  {
   "cell_type": "code",
   "execution_count": 11,
   "id": "f1a8519a",
   "metadata": {},
   "outputs": [],
   "source": [
    "def update(current_state,action,gamma):\n",
    "    #Max(Q(next state,all actions))\n",
    "    max_index=np.where(Q[action]==np.max(Q[action,]))[1]\n",
    "    \n",
    "    if max_index.shape[0]>1:\n",
    "        max_index= int (np.random.choice(max_index,size =1))\n",
    "    \n",
    "    else:\n",
    "        max_index=int(max_index)\n",
    "                       \n",
    "    max_value=Q[action,max_index]\n",
    "                       \n",
    "    Q[current_state,action] = R[current_state,action]+gamma*max_value"
   ]
  },
  {
   "cell_type": "code",
   "execution_count": 12,
   "id": "2a35cf9e",
   "metadata": {},
   "outputs": [],
   "source": [
    "update(initial_state,action,gamma)"
   ]
  },
  {
   "cell_type": "markdown",
   "id": "6d011103",
   "metadata": {},
   "source": [
    "# train the agent whith this enviorment information"
   ]
  },
  {
   "cell_type": "code",
   "execution_count": 13,
   "id": "c18e7a2d",
   "metadata": {},
   "outputs": [],
   "source": [
    "for i in range(1000000):\n",
    "    current_state=np.random.randint(0,int(Q.shape[0]))\n",
    "    acton=sample_next_action(available_act)\n",
    "    update(current_state,action,gamma)"
   ]
  },
  {
   "cell_type": "markdown",
   "id": "f03e232e",
   "metadata": {},
   "source": [
    "# Testing\n",
    "goal_state=5"
   ]
  },
  {
   "cell_type": "code",
   "execution_count": 14,
   "id": "d70afecd",
   "metadata": {},
   "outputs": [
    {
     "name": "stdout",
     "output_type": "stream",
     "text": [
      "Optimum path of initial state 1 to the Goal state is [4, 4, 2, 2, 3, 0, 4, 0, 2, 3, 1, 4, 0, 2, 2, 3, 5]\n"
     ]
    }
   ],
   "source": [
    "current_state=4\n",
    "steps=[current_state]\n",
    "while current_state !=5:\n",
    "    next_step_index=np.where(Q[current_state,]==np.max(Q[current_state,]))[1]\n",
    "    if next_step_index.shape[0]>1:\n",
    "        next_step_index=int (np.random.choice(next_step_index,size=1))\n",
    "    else:\n",
    "        next_step_index=int (next_step_index)\n",
    "    steps.append(next_step_index)\n",
    "    current_state= next_step_index\n",
    "    \n",
    "print('Optimum path of initial state {} to the Goal state is {}'.format(initial_state,steps))"
   ]
  },
  {
   "cell_type": "code",
   "execution_count": null,
   "id": "ff4b99bb",
   "metadata": {},
   "outputs": [],
   "source": []
  },
  {
   "cell_type": "code",
   "execution_count": null,
   "id": "566476e9",
   "metadata": {},
   "outputs": [],
   "source": []
  },
  {
   "cell_type": "code",
   "execution_count": null,
   "id": "1561d9ef",
   "metadata": {},
   "outputs": [],
   "source": []
  },
  {
   "cell_type": "code",
   "execution_count": null,
   "id": "05bd3d08",
   "metadata": {},
   "outputs": [],
   "source": []
  }
 ],
 "metadata": {
  "kernelspec": {
   "display_name": "Python 3 (ipykernel)",
   "language": "python",
   "name": "python3"
  },
  "language_info": {
   "codemirror_mode": {
    "name": "ipython",
    "version": 3
   },
   "file_extension": ".py",
   "mimetype": "text/x-python",
   "name": "python",
   "nbconvert_exporter": "python",
   "pygments_lexer": "ipython3",
   "version": "3.11.4"
  }
 },
 "nbformat": 4,
 "nbformat_minor": 5
}
