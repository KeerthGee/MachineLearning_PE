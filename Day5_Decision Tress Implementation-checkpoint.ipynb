{
 "cells": [
  {
   "cell_type": "markdown",
   "id": "b4cc64f4",
   "metadata": {},
   "source": [
    "# Decision Tree for Diabetes dataset"
   ]
  },
  {
   "cell_type": "code",
   "execution_count": 1,
   "id": "d56efe7f",
   "metadata": {},
   "outputs": [],
   "source": [
    "import numpy as np\n",
    "import pandas as pd\n",
    "import matplotlib.pyplot as plt\n",
    "import seaborn as sns"
   ]
  },
  {
   "cell_type": "code",
   "execution_count": 2,
   "id": "2e841ef6",
   "metadata": {},
   "outputs": [
    {
     "data": {
      "text/html": [
       "<div>\n",
       "<style scoped>\n",
       "    .dataframe tbody tr th:only-of-type {\n",
       "        vertical-align: middle;\n",
       "    }\n",
       "\n",
       "    .dataframe tbody tr th {\n",
       "        vertical-align: top;\n",
       "    }\n",
       "\n",
       "    .dataframe thead th {\n",
       "        text-align: right;\n",
       "    }\n",
       "</style>\n",
       "<table border=\"1\" class=\"dataframe\">\n",
       "  <thead>\n",
       "    <tr style=\"text-align: right;\">\n",
       "      <th></th>\n",
       "      <th>Pregnancies</th>\n",
       "      <th>Glucose</th>\n",
       "      <th>BloodPressure</th>\n",
       "      <th>SkinThickness</th>\n",
       "      <th>Insulin</th>\n",
       "      <th>BMI</th>\n",
       "      <th>DiabetesPedigreeFunction</th>\n",
       "      <th>Age</th>\n",
       "      <th>Outcome</th>\n",
       "    </tr>\n",
       "  </thead>\n",
       "  <tbody>\n",
       "    <tr>\n",
       "      <th>0</th>\n",
       "      <td>6.0</td>\n",
       "      <td>148</td>\n",
       "      <td>72</td>\n",
       "      <td>35.0</td>\n",
       "      <td>0</td>\n",
       "      <td>33.6</td>\n",
       "      <td>0.627</td>\n",
       "      <td>50.0</td>\n",
       "      <td>1</td>\n",
       "    </tr>\n",
       "    <tr>\n",
       "      <th>1</th>\n",
       "      <td>NaN</td>\n",
       "      <td>85</td>\n",
       "      <td>66</td>\n",
       "      <td>29.0</td>\n",
       "      <td>0</td>\n",
       "      <td>26.6</td>\n",
       "      <td>0.351</td>\n",
       "      <td>NaN</td>\n",
       "      <td>0</td>\n",
       "    </tr>\n",
       "    <tr>\n",
       "      <th>2</th>\n",
       "      <td>8.0</td>\n",
       "      <td>183</td>\n",
       "      <td>64</td>\n",
       "      <td>0.0</td>\n",
       "      <td>0</td>\n",
       "      <td>NaN</td>\n",
       "      <td>0.672</td>\n",
       "      <td>32.0</td>\n",
       "      <td>1</td>\n",
       "    </tr>\n",
       "    <tr>\n",
       "      <th>3</th>\n",
       "      <td>1.0</td>\n",
       "      <td>89</td>\n",
       "      <td>66</td>\n",
       "      <td>23.0</td>\n",
       "      <td>94</td>\n",
       "      <td>28.1</td>\n",
       "      <td>0.167</td>\n",
       "      <td>21.0</td>\n",
       "      <td>0</td>\n",
       "    </tr>\n",
       "    <tr>\n",
       "      <th>4</th>\n",
       "      <td>0.0</td>\n",
       "      <td>137</td>\n",
       "      <td>40</td>\n",
       "      <td>35.0</td>\n",
       "      <td>168</td>\n",
       "      <td>43.1</td>\n",
       "      <td>2.288</td>\n",
       "      <td>33.0</td>\n",
       "      <td>1</td>\n",
       "    </tr>\n",
       "    <tr>\n",
       "      <th>...</th>\n",
       "      <td>...</td>\n",
       "      <td>...</td>\n",
       "      <td>...</td>\n",
       "      <td>...</td>\n",
       "      <td>...</td>\n",
       "      <td>...</td>\n",
       "      <td>...</td>\n",
       "      <td>...</td>\n",
       "      <td>...</td>\n",
       "    </tr>\n",
       "    <tr>\n",
       "      <th>763</th>\n",
       "      <td>10.0</td>\n",
       "      <td>101</td>\n",
       "      <td>76</td>\n",
       "      <td>48.0</td>\n",
       "      <td>180</td>\n",
       "      <td>32.9</td>\n",
       "      <td>0.171</td>\n",
       "      <td>63.0</td>\n",
       "      <td>0</td>\n",
       "    </tr>\n",
       "    <tr>\n",
       "      <th>764</th>\n",
       "      <td>2.0</td>\n",
       "      <td>122</td>\n",
       "      <td>70</td>\n",
       "      <td>27.0</td>\n",
       "      <td>0</td>\n",
       "      <td>36.8</td>\n",
       "      <td>0.340</td>\n",
       "      <td>27.0</td>\n",
       "      <td>0</td>\n",
       "    </tr>\n",
       "    <tr>\n",
       "      <th>765</th>\n",
       "      <td>5.0</td>\n",
       "      <td>121</td>\n",
       "      <td>72</td>\n",
       "      <td>23.0</td>\n",
       "      <td>112</td>\n",
       "      <td>26.2</td>\n",
       "      <td>0.245</td>\n",
       "      <td>30.0</td>\n",
       "      <td>0</td>\n",
       "    </tr>\n",
       "    <tr>\n",
       "      <th>766</th>\n",
       "      <td>1.0</td>\n",
       "      <td>126</td>\n",
       "      <td>60</td>\n",
       "      <td>0.0</td>\n",
       "      <td>0</td>\n",
       "      <td>30.1</td>\n",
       "      <td>0.349</td>\n",
       "      <td>47.0</td>\n",
       "      <td>1</td>\n",
       "    </tr>\n",
       "    <tr>\n",
       "      <th>767</th>\n",
       "      <td>1.0</td>\n",
       "      <td>93</td>\n",
       "      <td>70</td>\n",
       "      <td>31.0</td>\n",
       "      <td>0</td>\n",
       "      <td>30.4</td>\n",
       "      <td>0.315</td>\n",
       "      <td>23.0</td>\n",
       "      <td>0</td>\n",
       "    </tr>\n",
       "  </tbody>\n",
       "</table>\n",
       "<p>768 rows × 9 columns</p>\n",
       "</div>"
      ],
      "text/plain": [
       "     Pregnancies  Glucose  BloodPressure  SkinThickness  Insulin   BMI  \\\n",
       "0            6.0      148             72           35.0        0  33.6   \n",
       "1            NaN       85             66           29.0        0  26.6   \n",
       "2            8.0      183             64            0.0        0   NaN   \n",
       "3            1.0       89             66           23.0       94  28.1   \n",
       "4            0.0      137             40           35.0      168  43.1   \n",
       "..           ...      ...            ...            ...      ...   ...   \n",
       "763         10.0      101             76           48.0      180  32.9   \n",
       "764          2.0      122             70           27.0        0  36.8   \n",
       "765          5.0      121             72           23.0      112  26.2   \n",
       "766          1.0      126             60            0.0        0  30.1   \n",
       "767          1.0       93             70           31.0        0  30.4   \n",
       "\n",
       "     DiabetesPedigreeFunction   Age  Outcome  \n",
       "0                       0.627  50.0        1  \n",
       "1                       0.351   NaN        0  \n",
       "2                       0.672  32.0        1  \n",
       "3                       0.167  21.0        0  \n",
       "4                       2.288  33.0        1  \n",
       "..                        ...   ...      ...  \n",
       "763                     0.171  63.0        0  \n",
       "764                     0.340  27.0        0  \n",
       "765                     0.245  30.0        0  \n",
       "766                     0.349  47.0        1  \n",
       "767                     0.315  23.0        0  \n",
       "\n",
       "[768 rows x 9 columns]"
      ]
     },
     "execution_count": 2,
     "metadata": {},
     "output_type": "execute_result"
    }
   ],
   "source": [
    "#load the dataset\n",
    "data=pd.read_csv('diabetes_na.csv')\n",
    "data"
   ]
  },
  {
   "cell_type": "code",
   "execution_count": 3,
   "id": "83b7b15a",
   "metadata": {},
   "outputs": [
    {
     "data": {
      "text/plain": [
       "Pregnancies                 2\n",
       "Glucose                     0\n",
       "BloodPressure               0\n",
       "SkinThickness               1\n",
       "Insulin                     0\n",
       "BMI                         1\n",
       "DiabetesPedigreeFunction    0\n",
       "Age                         1\n",
       "Outcome                     0\n",
       "dtype: int64"
      ]
     },
     "execution_count": 3,
     "metadata": {},
     "output_type": "execute_result"
    }
   ],
   "source": [
    "data.isna().sum()"
   ]
  },
  {
   "cell_type": "code",
   "execution_count": 4,
   "id": "c770738d",
   "metadata": {},
   "outputs": [
    {
     "data": {
      "text/plain": [
       "Pregnancies                 0\n",
       "Glucose                     0\n",
       "BloodPressure               0\n",
       "SkinThickness               0\n",
       "Insulin                     0\n",
       "BMI                         0\n",
       "DiabetesPedigreeFunction    0\n",
       "Age                         0\n",
       "Outcome                     0\n",
       "dtype: int64"
      ]
     },
     "execution_count": 4,
     "metadata": {},
     "output_type": "execute_result"
    }
   ],
   "source": [
    "data=data.fillna(method='bfill')\n",
    "data.isna().sum()"
   ]
  },
  {
   "cell_type": "code",
   "execution_count": 5,
   "id": "d59f8f9a",
   "metadata": {},
   "outputs": [
    {
     "data": {
      "text/html": [
       "<div>\n",
       "<style scoped>\n",
       "    .dataframe tbody tr th:only-of-type {\n",
       "        vertical-align: middle;\n",
       "    }\n",
       "\n",
       "    .dataframe tbody tr th {\n",
       "        vertical-align: top;\n",
       "    }\n",
       "\n",
       "    .dataframe thead th {\n",
       "        text-align: right;\n",
       "    }\n",
       "</style>\n",
       "<table border=\"1\" class=\"dataframe\">\n",
       "  <thead>\n",
       "    <tr style=\"text-align: right;\">\n",
       "      <th></th>\n",
       "      <th>Pregnancies</th>\n",
       "      <th>Glucose</th>\n",
       "      <th>BloodPressure</th>\n",
       "      <th>SkinThickness</th>\n",
       "      <th>Insulin</th>\n",
       "      <th>BMI</th>\n",
       "      <th>DiabetesPedigreeFunction</th>\n",
       "      <th>Age</th>\n",
       "      <th>Outcome</th>\n",
       "    </tr>\n",
       "  </thead>\n",
       "  <tbody>\n",
       "    <tr>\n",
       "      <th>0</th>\n",
       "      <td>6.0</td>\n",
       "      <td>148</td>\n",
       "      <td>72</td>\n",
       "      <td>35.0</td>\n",
       "      <td>0</td>\n",
       "      <td>33.6</td>\n",
       "      <td>0.627</td>\n",
       "      <td>50.0</td>\n",
       "      <td>1</td>\n",
       "    </tr>\n",
       "    <tr>\n",
       "      <th>1</th>\n",
       "      <td>8.0</td>\n",
       "      <td>85</td>\n",
       "      <td>66</td>\n",
       "      <td>29.0</td>\n",
       "      <td>0</td>\n",
       "      <td>26.6</td>\n",
       "      <td>0.351</td>\n",
       "      <td>32.0</td>\n",
       "      <td>0</td>\n",
       "    </tr>\n",
       "    <tr>\n",
       "      <th>2</th>\n",
       "      <td>8.0</td>\n",
       "      <td>183</td>\n",
       "      <td>64</td>\n",
       "      <td>0.0</td>\n",
       "      <td>0</td>\n",
       "      <td>28.1</td>\n",
       "      <td>0.672</td>\n",
       "      <td>32.0</td>\n",
       "      <td>1</td>\n",
       "    </tr>\n",
       "    <tr>\n",
       "      <th>3</th>\n",
       "      <td>1.0</td>\n",
       "      <td>89</td>\n",
       "      <td>66</td>\n",
       "      <td>23.0</td>\n",
       "      <td>94</td>\n",
       "      <td>28.1</td>\n",
       "      <td>0.167</td>\n",
       "      <td>21.0</td>\n",
       "      <td>0</td>\n",
       "    </tr>\n",
       "    <tr>\n",
       "      <th>4</th>\n",
       "      <td>0.0</td>\n",
       "      <td>137</td>\n",
       "      <td>40</td>\n",
       "      <td>35.0</td>\n",
       "      <td>168</td>\n",
       "      <td>43.1</td>\n",
       "      <td>2.288</td>\n",
       "      <td>33.0</td>\n",
       "      <td>1</td>\n",
       "    </tr>\n",
       "  </tbody>\n",
       "</table>\n",
       "</div>"
      ],
      "text/plain": [
       "   Pregnancies  Glucose  BloodPressure  SkinThickness  Insulin   BMI  \\\n",
       "0          6.0      148             72           35.0        0  33.6   \n",
       "1          8.0       85             66           29.0        0  26.6   \n",
       "2          8.0      183             64            0.0        0  28.1   \n",
       "3          1.0       89             66           23.0       94  28.1   \n",
       "4          0.0      137             40           35.0      168  43.1   \n",
       "\n",
       "   DiabetesPedigreeFunction   Age  Outcome  \n",
       "0                     0.627  50.0        1  \n",
       "1                     0.351  32.0        0  \n",
       "2                     0.672  32.0        1  \n",
       "3                     0.167  21.0        0  \n",
       "4                     2.288  33.0        1  "
      ]
     },
     "execution_count": 5,
     "metadata": {},
     "output_type": "execute_result"
    }
   ],
   "source": [
    "data.head()"
   ]
  },
  {
   "cell_type": "code",
   "execution_count": 6,
   "id": "6d7d0b02",
   "metadata": {},
   "outputs": [],
   "source": [
    "x=data.iloc[:,:-1]\n",
    "y=data.iloc[:,-1:]"
   ]
  },
  {
   "cell_type": "code",
   "execution_count": 8,
   "id": "caf70b77",
   "metadata": {
    "scrolled": true
   },
   "outputs": [
    {
     "data": {
      "text/plain": [
       "<Axes: ylabel='count'>"
      ]
     },
     "execution_count": 8,
     "metadata": {},
     "output_type": "execute_result"
    },
    {
     "data": {
      "image/png": "[encoded data removed]",
      "text/plain": [
       "<Figure size 640x480 with 1 Axes>"
      ]
     },
     "metadata": {},
     "output_type": "display_data"
    }
   ],
   "source": [
    "sns.countplot(data['Outcome'])"
   ]
  },
  {
   "cell_type": "markdown",
   "id": "e71f0ada",
   "metadata": {},
   "source": [
    "# Split the data for training and testing"
   ]
  },
  {
   "cell_type": "code",
   "execution_count": 11,
   "id": "929cb396",
   "metadata": {},
   "outputs": [
    {
     "name": "stdout",
     "output_type": "stream",
     "text": [
      "********************Training Data Shape********************\n",
      "\n",
      "Training data-x- Shape:\t (576, 8)\n",
      "\n",
      "Training data-y- Shape:\t (576, 1)\n",
      "\n",
      "*********************Testing Data Shape*******************\n",
      "\n",
      "Testing data(x-Input) Shape:\t (192, 8)\n",
      "\n",
      "Testing data(y-Outcome) Shape:\t (192, 1)\n"
     ]
    }
   ],
   "source": [
    "from sklearn.model_selection import train_test_split\n",
    "\n",
    "xtrain,xtest,ytrain,ytest=train_test_split(x,y,test_size=.25,random_state=2)\n",
    "print('********************Training Data Shape********************\\n')\n",
    "print('Training data-x- Shape:\\t',xtrain.shape)\n",
    "print()\n",
    "print('Training data-y- Shape:\\t',ytrain.shape)\n",
    "print()\n",
    "print('*********************Testing Data Shape*******************\\n')\n",
    "print('Testing data(x-Input) Shape:\\t',xtest.shape)\n",
    "print()\n",
    "print('Testing data(y-Outcome) Shape:\\t',ytest.shape)"
   ]
  },
  {
   "cell_type": "markdown",
   "id": "c1229adf",
   "metadata": {},
   "source": [
    "# Build the Decision Tree model with criterion = GINI index method"
   ]
  },
  {
   "cell_type": "code",
   "execution_count": 12,
   "id": "5b69af89",
   "metadata": {},
   "outputs": [
    {
     "name": "stdout",
     "output_type": "stream",
     "text": [
      "****************************************************************************************************\n",
      "Decision Tree Model\n",
      "****************************************************************************************************\n",
      "\n",
      " Training Phase\n",
      "Hyperparameter: \n",
      " {'ccp_alpha': 0.0, 'class_weight': None, 'criterion': 'gini', 'max_depth': None, 'max_features': None, 'max_leaf_nodes': None, 'min_impurity_decrease': 0.0, 'min_samples_leaf': 1, 'min_samples_split': 2, 'min_weight_fraction_leaf': 0.0, 'random_state': None, 'splitter': 'best'}\n",
      "Training Completed\n",
      "====================================================================================================\n",
      "\n",
      " Test Phase\n",
      "Predicted class labels for the test samples:\n",
      " [0 1 0 1 0 0 0 1 0 1 0 0 1 0 0 1 1 0 1 1 1 0 0 1 0 0 1 0 0 0 1 0 0 0 0 1 1\n",
      " 1 0 0 1 0 0 0 0 0 0 1 0 1 0 1 1 0 1 1 1 0 1 0 0 1 0 1 0 0 0 0 0 1 0 0 0 0\n",
      " 0 0 1 0 0 0 0 0 0 1 1 1 0 0 0 0 0 0 0 1 0 1 0 0 0 1 0 0 0 0 0 0 1 0 0 0 0\n",
      " 0 0 0 0 1 1 0 0 0 0 0 0 0 0 1 0 0 0 0 1 1 0 0 0 1 0 1 0 1 1 1 0 1 0 0 0 0\n",
      " 0 0 0 0 1 0 0 0 0 1 0 1 0 0 0 1 0 0 0 1 1 0 0 0 0 0 1 1 1 1 0 0 0 0 0 0 0\n",
      " 0 0 1 0 0 0 0]\n",
      "\n",
      "Testing completed\n",
      "====================================================================================================\n",
      "****************************************************************************************************\n",
      "Decision Tree - Performance Measures\n",
      "****************************************************************************************************\n",
      "Accuracy Score: \t 0.7083333333333334\n",
      "====================================================================================================\n",
      "Confusion Matrics: \n",
      " [[106  28]\n",
      " [ 28  30]]\n",
      "====================================================================================================\n",
      "Classification Report\n",
      "               precision    recall  f1-score   support\n",
      "\n",
      "           0       0.79      0.79      0.79       134\n",
      "           1       0.52      0.52      0.52        58\n",
      "\n",
      "    accuracy                           0.71       192\n",
      "   macro avg       0.65      0.65      0.65       192\n",
      "weighted avg       0.71      0.71      0.71       192\n",
      "\n",
      "====================================================================================================\n"
     ]
    }
   ],
   "source": [
    "from sklearn.tree import DecisionTreeClassifier\n",
    "dt_clf=DecisionTreeClassifier()\n",
    "print('*'*100)\n",
    "print('Decision Tree Model')\n",
    "print('*'*100)\n",
    "print('\\n Training Phase')\n",
    "dt_clf.fit(xtrain,ytrain)\n",
    "print('Hyperparameter: \\n',dt_clf.get_params())\n",
    "print('Training Completed')\n",
    "print('='*100)\n",
    "print('\\n Test Phase')\n",
    "ypred=dt_clf.predict(xtest)\n",
    "print('Predicted class labels for the test samples:\\n',ypred)\n",
    "print()\n",
    "print('Testing completed')\n",
    "print('='*100)\n",
    "\n",
    "#import metrics\n",
    "from sklearn.metrics import accuracy_score\n",
    "from sklearn.metrics import confusion_matrix\n",
    "from sklearn.metrics import classification_report\n",
    "\n",
    "print('*'*100)\n",
    "print('Decision Tree - Performance Measures')\n",
    "print('*'*100)\n",
    "\n",
    "print('Accuracy Score: \\t',accuracy_score(ytest,ypred))\n",
    "print('='*100)\n",
    "print('Confusion Matrics: \\n',confusion_matrix(ytest,ypred))\n",
    "print('='*100)\n",
    "print('Classification Report\\n',classification_report(ytest,ypred))\n",
    "print('='*100)"
   ]
  },
  {
   "cell_type": "markdown",
   "id": "bf53ae00",
   "metadata": {},
   "source": [
    "# Build the Decision Tree model with criterion = entropy index method"
   ]
  },
  {
   "cell_type": "code",
   "execution_count": 13,
   "id": "028d1d6b",
   "metadata": {},
   "outputs": [
    {
     "name": "stdout",
     "output_type": "stream",
     "text": [
      "****************************************************************************************************\n",
      "Decision Tree Model\n",
      "****************************************************************************************************\n",
      "\n",
      " Trainig Phase\n",
      "Hpyerparameter: \n",
      " {'ccp_alpha': 0.0, 'class_weight': None, 'criterion': 'entropy', 'max_depth': None, 'max_features': None, 'max_leaf_nodes': None, 'min_impurity_decrease': 0.0, 'min_samples_leaf': 1, 'min_samples_split': 2, 'min_weight_fraction_leaf': 0.0, 'random_state': None, 'splitter': 'best'}\n",
      "Training Completed\n",
      "====================================================================================================\n",
      "\n",
      " Test Phase\n",
      "Predicted Class labels for the test samples: \n",
      " [0 0 0 0 1 0 0 1 0 0 0 1 1 0 0 1 1 0 1 1 1 1 0 1 0 0 1 0 0 0 1 0 0 0 0 1 0\n",
      " 1 0 0 1 0 0 0 0 0 0 1 0 1 0 1 1 0 1 1 1 1 1 0 0 1 1 1 0 0 0 0 0 1 0 1 0 0\n",
      " 0 0 1 0 0 0 0 0 0 0 1 1 0 0 1 0 0 0 0 0 0 1 1 0 1 0 0 0 0 0 0 0 1 1 0 0 0\n",
      " 0 0 0 0 1 1 0 0 0 0 0 0 0 1 1 0 0 0 1 1 1 1 0 0 0 1 0 0 1 0 1 0 1 0 0 0 1\n",
      " 0 0 0 1 1 0 0 0 0 1 0 1 0 0 0 0 0 0 0 1 0 0 0 0 0 0 0 0 0 1 0 0 0 0 1 0 0\n",
      " 0 0 1 0 1 0 0]\n",
      "\n",
      "Testing completed\n",
      "====================================================================================================\n",
      "****************************************************************************************************\n",
      "Decision Tree - Performance Measures\n",
      "****************************************************************************************************\n",
      "Accuracy Score: \t 0.703125\n",
      "====================================================================================================\n",
      "Confusion Matrics: \n",
      " [[104  30]\n",
      " [ 27  31]]\n",
      "====================================================================================================\n",
      "Classification Report\n",
      "               precision    recall  f1-score   support\n",
      "\n",
      "           0       0.79      0.78      0.78       134\n",
      "           1       0.51      0.53      0.52        58\n",
      "\n",
      "    accuracy                           0.70       192\n",
      "   macro avg       0.65      0.66      0.65       192\n",
      "weighted avg       0.71      0.70      0.71       192\n",
      "\n",
      "====================================================================================================\n"
     ]
    }
   ],
   "source": [
    "from sklearn.tree import DecisionTreeClassifier\n",
    "dt_clf=DecisionTreeClassifier(criterion='entropy')\n",
    "print('*'*100)\n",
    "print('Decision Tree Model')\n",
    "print('*'*100)\n",
    "print('\\n Trainig Phase')\n",
    "dt_clf.fit(xtrain,ytrain)\n",
    "print('Hpyerparameter: \\n',dt_clf.get_params())\n",
    "print('Training Completed')\n",
    "print('='*100)\n",
    "print('\\n Test Phase')\n",
    "ypred=dt_clf.predict(xtest)\n",
    "print('Predicted Class labels for the test samples: \\n',ypred)\n",
    "print()\n",
    "print('Testing completed')\n",
    "print('='*100)\n",
    "\n",
    "\n",
    "#import metrics\n",
    "from sklearn.metrics import accuracy_score\n",
    "from sklearn.metrics import confusion_matrix\n",
    "from sklearn.metrics import classification_report\n",
    "\n",
    "print('*'*100)\n",
    "print('Decision Tree - Performance Measures')\n",
    "print('*'*100)\n",
    "\n",
    "print('Accuracy Score: \\t',accuracy_score(ytest,ypred))\n",
    "print('='*100)\n",
    "print('Confusion Matrics: \\n',confusion_matrix(ytest,ypred))\n",
    "print('='*100)\n",
    "print('Classification Report\\n',classification_report(ytest,ypred))\n",
    "print('='*100)"
   ]
  },
  {
   "cell_type": "markdown",
   "id": "f9d6cee9",
   "metadata": {},
   "source": [
    "# Build the Decision Tree model with max_depth"
   ]
  },
  {
   "cell_type": "code",
   "execution_count": 14,
   "id": "648295a5",
   "metadata": {},
   "outputs": [
    {
     "name": "stdout",
     "output_type": "stream",
     "text": [
      "4\n"
     ]
    }
   ],
   "source": [
    "from sklearn.tree import DecisionTreeClassifier\n",
    "from sklearn.model_selection import GridSearchCV\n",
    "\n",
    "param_grid={'max_depth':[None,3,4,5,6,7,8,10]}\n",
    "\n",
    "clf=DecisionTreeClassifier(criterion='entropy')\n",
    "grid_search=GridSearchCV(clf,param_grid,cv=5)\n",
    "grid_search.fit(xtrain,ytrain)\n",
    "best_max_depth=grid_search.best_params_['max_depth']\n",
    "print(best_max_depth)"
   ]
  },
  {
   "cell_type": "code",
   "execution_count": 15,
   "id": "ad3e9939",
   "metadata": {},
   "outputs": [
    {
     "data": {
      "text/plain": [
       "{'max_depth': 4}"
      ]
     },
     "execution_count": 15,
     "metadata": {},
     "output_type": "execute_result"
    }
   ],
   "source": [
    "grid_search.best_params_"
   ]
  },
  {
   "cell_type": "code",
   "execution_count": 16,
   "id": "71744825",
   "metadata": {},
   "outputs": [
    {
     "data": {
      "text/plain": [
       "{'mean_fit_time': array([0.00773621, 0.00386796, 0.00332451, 0.00359588, 0.00393181,\n",
       "        0.00400658, 0.00371728, 0.00488014]),\n",
       " 'std_fit_time': array([0.00150507, 0.00107972, 0.00041274, 0.00120102, 0.00050164,\n",
       "        0.00065519, 0.00064187, 0.00109336]),\n",
       " 'mean_score_time': array([0.00201926, 0.00131755, 0.0012022 , 0.00121412, 0.00145102,\n",
       "        0.00120134, 0.00152397, 0.00121746]),\n",
       " 'std_score_time': array([0.00014417, 0.00040521, 0.00039947, 0.00039443, 0.00045408,\n",
       "        0.00040332, 0.00045765, 0.00039271]),\n",
       " 'param_max_depth': masked_array(data=[None, 3, 4, 5, 6, 7, 8, 10],\n",
       "              mask=[False, False, False, False, False, False, False, False],\n",
       "        fill_value='?',\n",
       "             dtype=object),\n",
       " 'params': [{'max_depth': None},\n",
       "  {'max_depth': 3},\n",
       "  {'max_depth': 4},\n",
       "  {'max_depth': 5},\n",
       "  {'max_depth': 6},\n",
       "  {'max_depth': 7},\n",
       "  {'max_depth': 8},\n",
       "  {'max_depth': 10}],\n",
       " 'split0_test_score': array([0.62931034, 0.70689655, 0.69827586, 0.65517241, 0.63793103,\n",
       "        0.64655172, 0.63793103, 0.65517241]),\n",
       " 'split1_test_score': array([0.71304348, 0.69565217, 0.72173913, 0.70434783, 0.71304348,\n",
       "        0.69565217, 0.73043478, 0.70434783]),\n",
       " 'split2_test_score': array([0.67826087, 0.76521739, 0.74782609, 0.71304348, 0.66086957,\n",
       "        0.69565217, 0.70434783, 0.66956522]),\n",
       " 'split3_test_score': array([0.68695652, 0.68695652, 0.73913043, 0.73043478, 0.73913043,\n",
       "        0.67826087, 0.68695652, 0.65217391]),\n",
       " 'split4_test_score': array([0.73043478, 0.76521739, 0.73043478, 0.69565217, 0.72173913,\n",
       "        0.68695652, 0.70434783, 0.72173913]),\n",
       " 'mean_test_score': array([0.6876012 , 0.72398801, 0.72748126, 0.69973013, 0.69454273,\n",
       "        0.68061469, 0.6928036 , 0.6805997 ]),\n",
       " 'std_test_score': array([0.03454709, 0.03425228, 0.01699568, 0.02507335, 0.03849351,\n",
       "        0.01821152, 0.03075006, 0.02768667]),\n",
       " 'rank_test_score': array([6, 2, 1, 3, 4, 7, 5, 8])}"
      ]
     },
     "execution_count": 16,
     "metadata": {},
     "output_type": "execute_result"
    }
   ],
   "source": [
    "grid_search.cv_results_"
   ]
  },
  {
   "cell_type": "code",
   "execution_count": 17,
   "id": "52d50be5",
   "metadata": {},
   "outputs": [
    {
     "data": {
      "text/html": [
       "<style>#sk-container-id-1 {color: black;background-color: white;}#sk-container-id-1 pre{padding: 0;}#sk-container-id-1 div.sk-toggleable {background-color: white;}#sk-container-id-1 label.sk-toggleable__label {cursor: pointer;display: block;width: 100%;margin-bottom: 0;padding: 0.3em;box-sizing: border-box;text-align: center;}#sk-container-id-1 label.sk-toggleable__label-arrow:before {content: \"▸\";float: left;margin-right: 0.25em;color: #696969;}#sk-container-id-1 label.sk-toggleable__label-arrow:hover:before {color: black;}#sk-container-id-1 div.sk-estimator:hover label.sk-toggleable__label-arrow:before {color: black;}#sk-container-id-1 div.sk-toggleable__content {max-height: 0;max-width: 0;overflow: hidden;text-align: left;background-color: #f0f8ff;}#sk-container-id-1 div.sk-toggleable__content pre {margin: 0.2em;color: black;border-radius: 0.25em;background-color: #f0f8ff;}#sk-container-id-1 input.sk-toggleable__control:checked~div.sk-toggleable__content {max-height: 200px;max-width: 100%;overflow: auto;}#sk-container-id-1 input.sk-toggleable__control:checked~label.sk-toggleable__label-arrow:before {content: \"▾\";}#sk-container-id-1 div.sk-estimator input.sk-toggleable__control:checked~label.sk-toggleable__label {background-color: #d4ebff;}#sk-container-id-1 div.sk-label input.sk-toggleable__control:checked~label.sk-toggleable__label {background-color: #d4ebff;}#sk-container-id-1 input.sk-hidden--visually {border: 0;clip: rect(1px 1px 1px 1px);clip: rect(1px, 1px, 1px, 1px);height: 1px;margin: -1px;overflow: hidden;padding: 0;position: absolute;width: 1px;}#sk-container-id-1 div.sk-estimator {font-family: monospace;background-color: #f0f8ff;border: 1px dotted black;border-radius: 0.25em;box-sizing: border-box;margin-bottom: 0.5em;}#sk-container-id-1 div.sk-estimator:hover {background-color: #d4ebff;}#sk-container-id-1 div.sk-parallel-item::after {content: \"\";width: 100%;border-bottom: 1px solid gray;flex-grow: 1;}#sk-container-id-1 div.sk-label:hover label.sk-toggleable__label {background-color: #d4ebff;}#sk-container-id-1 div.sk-serial::before {content: \"\";position: absolute;border-left: 1px solid gray;box-sizing: border-box;top: 0;bottom: 0;left: 50%;z-index: 0;}#sk-container-id-1 div.sk-serial {display: flex;flex-direction: column;align-items: center;background-color: white;padding-right: 0.2em;padding-left: 0.2em;position: relative;}#sk-container-id-1 div.sk-item {position: relative;z-index: 1;}#sk-container-id-1 div.sk-parallel {display: flex;align-items: stretch;justify-content: center;background-color: white;position: relative;}#sk-container-id-1 div.sk-item::before, #sk-container-id-1 div.sk-parallel-item::before {content: \"\";position: absolute;border-left: 1px solid gray;box-sizing: border-box;top: 0;bottom: 0;left: 50%;z-index: -1;}#sk-container-id-1 div.sk-parallel-item {display: flex;flex-direction: column;z-index: 1;position: relative;background-color: white;}#sk-container-id-1 div.sk-parallel-item:first-child::after {align-self: flex-end;width: 50%;}#sk-container-id-1 div.sk-parallel-item:last-child::after {align-self: flex-start;width: 50%;}#sk-container-id-1 div.sk-parallel-item:only-child::after {width: 0;}#sk-container-id-1 div.sk-dashed-wrapped {border: 1px dashed gray;margin: 0 0.4em 0.5em 0.4em;box-sizing: border-box;padding-bottom: 0.4em;background-color: white;}#sk-container-id-1 div.sk-label label {font-family: monospace;font-weight: bold;display: inline-block;line-height: 1.2em;}#sk-container-id-1 div.sk-label-container {text-align: center;}#sk-container-id-1 div.sk-container {/* jupyter's `normalize.less` sets `[hidden] { display: none; }` but bootstrap.min.css set `[hidden] { display: none !important; }` so we also need the `!important` here to be able to override the default hidden behavior on the sphinx rendered scikit-learn.org. See: https://github.com/scikit-learn/scikit-learn/issues/21755 */display: inline-block !important;position: relative;}#sk-container-id-1 div.sk-text-repr-fallback {display: none;}</style><div id=\"sk-container-id-1\" class=\"sk-top-container\"><div class=\"sk-text-repr-fallback\"><pre>DecisionTreeClassifier(criterion=&#x27;entropy&#x27;, max_depth=4)</pre><b>In a Jupyter environment, please rerun this cell to show the HTML representation or trust the notebook. <br />On GitHub, the HTML representation is unable to render, please try loading this page with nbviewer.org.</b></div><div class=\"sk-container\" hidden><div class=\"sk-item\"><div class=\"sk-estimator sk-toggleable\"><input class=\"sk-toggleable__control sk-hidden--visually\" id=\"sk-estimator-id-1\" type=\"checkbox\" checked><label for=\"sk-estimator-id-1\" class=\"sk-toggleable__label sk-toggleable__label-arrow\">DecisionTreeClassifier</label><div class=\"sk-toggleable__content\"><pre>DecisionTreeClassifier(criterion=&#x27;entropy&#x27;, max_depth=4)</pre></div></div></div></div></div>"
      ],
      "text/plain": [
       "DecisionTreeClassifier(criterion='entropy', max_depth=4)"
      ]
     },
     "execution_count": 17,
     "metadata": {},
     "output_type": "execute_result"
    }
   ],
   "source": [
    "grid_search.best_estimator_"
   ]
  },
  {
   "cell_type": "code",
   "execution_count": 18,
   "id": "79ae341e",
   "metadata": {},
   "outputs": [
    {
     "data": {
      "text/plain": [
       "2"
      ]
     },
     "execution_count": 18,
     "metadata": {},
     "output_type": "execute_result"
    }
   ],
   "source": [
    "grid_search.best_index_"
   ]
  },
  {
   "cell_type": "code",
   "execution_count": 19,
   "id": "7c3a8c23",
   "metadata": {},
   "outputs": [
    {
     "data": {
      "text/plain": [
       "array([0, 1], dtype=int64)"
      ]
     },
     "execution_count": 19,
     "metadata": {},
     "output_type": "execute_result"
    }
   ],
   "source": [
    "grid_search.classes_"
   ]
  },
  {
   "cell_type": "code",
   "execution_count": 20,
   "id": "3a901abd",
   "metadata": {},
   "outputs": [
    {
     "data": {
      "text/plain": [
       "5"
      ]
     },
     "execution_count": 20,
     "metadata": {},
     "output_type": "execute_result"
    }
   ],
   "source": [
    "grid_search.cv"
   ]
  },
  {
   "cell_type": "code",
   "execution_count": 22,
   "id": "04f307ec",
   "metadata": {},
   "outputs": [
    {
     "data": {
      "text/plain": [
       "array(['Pregnancies', 'Glucose', 'BloodPressure', 'SkinThickness',\n",
       "       'Insulin', 'BMI', 'DiabetesPedigreeFunction', 'Age'], dtype=object)"
      ]
     },
     "execution_count": 22,
     "metadata": {},
     "output_type": "execute_result"
    }
   ],
   "source": [
    "grid_search.feature_names_in_"
   ]
  },
  {
   "cell_type": "code",
   "execution_count": 23,
   "id": "4233642e",
   "metadata": {},
   "outputs": [
    {
     "data": {
      "text/plain": [
       "5"
      ]
     },
     "execution_count": 23,
     "metadata": {},
     "output_type": "execute_result"
    }
   ],
   "source": [
    "grid_search.n_splits_"
   ]
  },
  {
   "cell_type": "code",
   "execution_count": 24,
   "id": "5ad30fe6",
   "metadata": {},
   "outputs": [
    {
     "data": {
      "text/plain": [
       "{'ccp_alpha': 0.0,\n",
       " 'class_weight': None,\n",
       " 'criterion': 'entropy',\n",
       " 'max_depth': None,\n",
       " 'max_features': None,\n",
       " 'max_leaf_nodes': None,\n",
       " 'min_impurity_decrease': 0.0,\n",
       " 'min_samples_leaf': 1,\n",
       " 'min_samples_split': 2,\n",
       " 'min_weight_fraction_leaf': 0.0,\n",
       " 'random_state': None,\n",
       " 'splitter': 'best'}"
      ]
     },
     "execution_count": 24,
     "metadata": {},
     "output_type": "execute_result"
    }
   ],
   "source": [
    "clf.get_params()"
   ]
  },
  {
   "cell_type": "code",
   "execution_count": 25,
   "id": "0f812688",
   "metadata": {},
   "outputs": [
    {
     "data": {
      "text/plain": [
       "[Text(0.4753264925373134, 0.9736842105263158, 'X[1] <= 127.5\\nentropy = 0.946\\nsamples = 576\\nvalue = [366, 210]'),\n",
       " Text(0.1208955223880597, 0.9210526315789473, 'X[5] <= 26.45\\nentropy = 0.708\\nsamples = 352\\nvalue = [284, 68]'),\n",
       " Text(0.03582089552238806, 0.868421052631579, 'X[5] <= 9.1\\nentropy = 0.139\\nsamples = 102\\nvalue = [100, 2]'),\n",
       " Text(0.023880597014925373, 0.8157894736842105, 'X[7] <= 28.0\\nentropy = 0.764\\nsamples = 9\\nvalue = [7, 2]'),\n",
       " Text(0.011940298507462687, 0.7631578947368421, 'entropy = 0.0\\nsamples = 7\\nvalue = [7, 0]'),\n",
       " Text(0.03582089552238806, 0.7631578947368421, 'entropy = 0.0\\nsamples = 2\\nvalue = [0, 2]'),\n",
       " Text(0.04776119402985075, 0.8157894736842105, 'entropy = 0.0\\nsamples = 93\\nvalue = [93, 0]'),\n",
       " Text(0.20597014925373133, 0.868421052631579, 'X[7] <= 28.5\\nentropy = 0.833\\nsamples = 250\\nvalue = [184, 66]'),\n",
       " Text(0.07164179104477612, 0.8157894736842105, 'X[5] <= 45.4\\nentropy = 0.552\\nsamples = 125\\nvalue = [109, 16]'),\n",
       " Text(0.05970149253731343, 0.7631578947368421, 'X[5] <= 30.9\\nentropy = 0.489\\nsamples = 122\\nvalue = [109, 13]'),\n",
       " Text(0.04776119402985075, 0.7105263157894737, 'entropy = 0.0\\nsamples = 38\\nvalue = [38, 0]'),\n",
       " Text(0.07164179104477612, 0.7105263157894737, 'X[6] <= 0.501\\nentropy = 0.622\\nsamples = 84\\nvalue = [71, 13]'),\n",
       " Text(0.041791044776119404, 0.6578947368421053, 'X[2] <= 53.0\\nentropy = 0.402\\nsamples = 50\\nvalue = [46, 4]'),\n",
       " Text(0.029850746268656716, 0.6052631578947368, 'entropy = 0.0\\nsamples = 3\\nvalue = [0, 3]'),\n",
       " Text(0.05373134328358209, 0.6052631578947368, 'X[3] <= 8.0\\nentropy = 0.149\\nsamples = 47\\nvalue = [46, 1]'),\n",
       " Text(0.041791044776119404, 0.5526315789473685, 'X[7] <= 23.5\\nentropy = 0.65\\nsamples = 6\\nvalue = [5, 1]'),\n",
       " Text(0.029850746268656716, 0.5, 'entropy = 0.0\\nsamples = 1\\nvalue = [0, 1]'),\n",
       " Text(0.05373134328358209, 0.5, 'entropy = 0.0\\nsamples = 5\\nvalue = [5, 0]'),\n",
       " Text(0.06567164179104477, 0.5526315789473685, 'entropy = 0.0\\nsamples = 41\\nvalue = [41, 0]'),\n",
       " Text(0.10149253731343283, 0.6578947368421053, 'X[2] <= 61.0\\nentropy = 0.834\\nsamples = 34\\nvalue = [25, 9]'),\n",
       " Text(0.08955223880597014, 0.6052631578947368, 'entropy = 0.0\\nsamples = 7\\nvalue = [7, 0]'),\n",
       " Text(0.11343283582089553, 0.6052631578947368, 'X[6] <= 0.551\\nentropy = 0.918\\nsamples = 27\\nvalue = [18, 9]'),\n",
       " Text(0.08955223880597014, 0.5526315789473685, 'X[4] <= 149.5\\nentropy = 0.863\\nsamples = 7\\nvalue = [2, 5]'),\n",
       " Text(0.07761194029850746, 0.5, 'entropy = 0.0\\nsamples = 5\\nvalue = [0, 5]'),\n",
       " Text(0.10149253731343283, 0.5, 'entropy = 0.0\\nsamples = 2\\nvalue = [2, 0]'),\n",
       " Text(0.1373134328358209, 0.5526315789473685, 'X[5] <= 32.7\\nentropy = 0.722\\nsamples = 20\\nvalue = [16, 4]'),\n",
       " Text(0.1253731343283582, 0.5, 'entropy = 0.0\\nsamples = 7\\nvalue = [7, 0]'),\n",
       " Text(0.14925373134328357, 0.5, 'X[5] <= 34.35\\nentropy = 0.89\\nsamples = 13\\nvalue = [9, 4]'),\n",
       " Text(0.1373134328358209, 0.4473684210526316, 'entropy = 0.0\\nsamples = 2\\nvalue = [0, 2]'),\n",
       " Text(0.16119402985074627, 0.4473684210526316, 'X[7] <= 23.5\\nentropy = 0.684\\nsamples = 11\\nvalue = [9, 2]'),\n",
       " Text(0.14925373134328357, 0.39473684210526316, 'X[6] <= 0.749\\nentropy = 0.971\\nsamples = 5\\nvalue = [3, 2]'),\n",
       " Text(0.1373134328358209, 0.34210526315789475, 'X[0] <= 2.5\\nentropy = 0.918\\nsamples = 3\\nvalue = [1, 2]'),\n",
       " Text(0.1253731343283582, 0.2894736842105263, 'entropy = 0.0\\nsamples = 2\\nvalue = [0, 2]'),\n",
       " Text(0.14925373134328357, 0.2894736842105263, 'entropy = 0.0\\nsamples = 1\\nvalue = [1, 0]'),\n",
       " Text(0.16119402985074627, 0.34210526315789475, 'entropy = 0.0\\nsamples = 2\\nvalue = [2, 0]'),\n",
       " Text(0.17313432835820897, 0.39473684210526316, 'entropy = 0.0\\nsamples = 6\\nvalue = [6, 0]'),\n",
       " Text(0.08358208955223881, 0.7631578947368421, 'entropy = 0.0\\nsamples = 3\\nvalue = [0, 3]'),\n",
       " Text(0.3402985074626866, 0.8157894736842105, 'X[1] <= 100.5\\nentropy = 0.971\\nsamples = 125\\nvalue = [75, 50]'),\n",
       " Text(0.26865671641791045, 0.7631578947368421, 'X[3] <= 32.5\\nentropy = 0.702\\nsamples = 42\\nvalue = [34, 8]'),\n",
       " Text(0.25671641791044775, 0.7105263157894737, 'X[3] <= 31.5\\nentropy = 0.837\\nsamples = 30\\nvalue = [22, 8]'),\n",
       " Text(0.24477611940298508, 0.6578947368421053, 'X[0] <= 11.0\\nentropy = 0.75\\nsamples = 28\\nvalue = [22, 6]'),\n",
       " Text(0.2208955223880597, 0.6052631578947368, 'X[0] <= 5.5\\nentropy = 0.544\\nsamples = 24\\nvalue = [21, 3]'),\n",
       " Text(0.208955223880597, 0.5526315789473685, 'X[7] <= 47.5\\nentropy = 0.811\\nsamples = 12\\nvalue = [9, 3]'),\n",
       " Text(0.19701492537313434, 0.5, 'X[6] <= 0.182\\nentropy = 0.684\\nsamples = 11\\nvalue = [9, 2]'),\n",
       " Text(0.18507462686567164, 0.4473684210526316, 'entropy = 0.0\\nsamples = 1\\nvalue = [0, 1]'),\n",
       " Text(0.208955223880597, 0.4473684210526316, 'X[6] <= 1.11\\nentropy = 0.469\\nsamples = 10\\nvalue = [9, 1]'),\n",
       " Text(0.19701492537313434, 0.39473684210526316, 'entropy = 0.0\\nsamples = 9\\nvalue = [9, 0]'),\n",
       " Text(0.2208955223880597, 0.39473684210526316, 'entropy = 0.0\\nsamples = 1\\nvalue = [0, 1]'),\n",
       " Text(0.2208955223880597, 0.5, 'entropy = 0.0\\nsamples = 1\\nvalue = [0, 1]'),\n",
       " Text(0.23283582089552238, 0.5526315789473685, 'entropy = 0.0\\nsamples = 12\\nvalue = [12, 0]'),\n",
       " Text(0.26865671641791045, 0.6052631578947368, 'X[3] <= 3.5\\nentropy = 0.811\\nsamples = 4\\nvalue = [1, 3]'),\n",
       " Text(0.25671641791044775, 0.5526315789473685, 'entropy = 0.0\\nsamples = 1\\nvalue = [1, 0]'),\n",
       " Text(0.28059701492537314, 0.5526315789473685, 'entropy = 0.0\\nsamples = 3\\nvalue = [0, 3]'),\n",
       " Text(0.26865671641791045, 0.6578947368421053, 'entropy = 0.0\\nsamples = 2\\nvalue = [0, 2]'),\n",
       " Text(0.28059701492537314, 0.7105263157894737, 'entropy = 0.0\\nsamples = 12\\nvalue = [12, 0]'),\n",
       " Text(0.41194029850746267, 0.7631578947368421, 'X[6] <= 0.561\\nentropy = 1.0\\nsamples = 83\\nvalue = [41, 42]'),\n",
       " Text(0.3641791044776119, 0.7105263157894737, 'X[2] <= 84.0\\nentropy = 0.965\\nsamples = 59\\nvalue = [36, 23]'),\n",
       " Text(0.3402985074626866, 0.6578947368421053, 'X[3] <= 39.5\\nentropy = 0.997\\nsamples = 47\\nvalue = [25, 22]'),\n",
       " Text(0.3283582089552239, 0.6052631578947368, 'X[6] <= 0.387\\nentropy = 0.998\\nsamples = 42\\nvalue = [20, 22]'),\n",
       " Text(0.3044776119402985, 0.5526315789473685, 'X[6] <= 0.288\\nentropy = 0.954\\nsamples = 32\\nvalue = [12, 20]'),\n",
       " Text(0.29253731343283584, 0.5, 'X[0] <= 3.5\\nentropy = 0.999\\nsamples = 25\\nvalue = [12, 13]'),\n",
       " Text(0.28059701492537314, 0.4473684210526316, 'entropy = 0.0\\nsamples = 4\\nvalue = [4, 0]'),\n",
       " Text(0.3044776119402985, 0.4473684210526316, 'X[7] <= 45.0\\nentropy = 0.959\\nsamples = 21\\nvalue = [8, 13]'),\n",
       " Text(0.28059701492537314, 0.39473684210526316, 'X[6] <= 0.138\\nentropy = 0.811\\nsamples = 16\\nvalue = [4, 12]'),\n",
       " Text(0.26865671641791045, 0.34210526315789475, 'entropy = 0.0\\nsamples = 2\\nvalue = [2, 0]'),\n",
       " Text(0.29253731343283584, 0.34210526315789475, 'X[1] <= 121.0\\nentropy = 0.592\\nsamples = 14\\nvalue = [2, 12]'),\n",
       " Text(0.28059701492537314, 0.2894736842105263, 'entropy = 0.0\\nsamples = 9\\nvalue = [0, 9]'),\n",
       " Text(0.3044776119402985, 0.2894736842105263, 'X[6] <= 0.242\\nentropy = 0.971\\nsamples = 5\\nvalue = [2, 3]'),\n",
       " Text(0.29253731343283584, 0.23684210526315788, 'entropy = 0.0\\nsamples = 3\\nvalue = [0, 3]'),\n",
       " Text(0.3164179104477612, 0.23684210526315788, 'entropy = 0.0\\nsamples = 2\\nvalue = [2, 0]'),\n",
       " Text(0.3283582089552239, 0.39473684210526316, 'X[6] <= 0.137\\nentropy = 0.722\\nsamples = 5\\nvalue = [4, 1]'),\n",
       " Text(0.3164179104477612, 0.34210526315789475, 'entropy = 0.0\\nsamples = 1\\nvalue = [0, 1]'),\n",
       " Text(0.3402985074626866, 0.34210526315789475, 'entropy = 0.0\\nsamples = 4\\nvalue = [4, 0]'),\n",
       " Text(0.3164179104477612, 0.5, 'entropy = 0.0\\nsamples = 7\\nvalue = [0, 7]'),\n",
       " Text(0.3522388059701492, 0.5526315789473685, 'X[1] <= 117.5\\nentropy = 0.722\\nsamples = 10\\nvalue = [8, 2]'),\n",
       " Text(0.3402985074626866, 0.5, 'X[2] <= 68.0\\nentropy = 1.0\\nsamples = 4\\nvalue = [2, 2]'),\n",
       " Text(0.3283582089552239, 0.4473684210526316, 'entropy = 0.0\\nsamples = 2\\nvalue = [2, 0]'),\n",
       " Text(0.3522388059701492, 0.4473684210526316, 'entropy = 0.0\\nsamples = 2\\nvalue = [0, 2]'),\n",
       " Text(0.3641791044776119, 0.5, 'entropy = 0.0\\nsamples = 6\\nvalue = [6, 0]'),\n",
       " Text(0.3522388059701492, 0.6052631578947368, 'entropy = 0.0\\nsamples = 5\\nvalue = [5, 0]'),\n",
       " Text(0.3880597014925373, 0.6578947368421053, 'X[5] <= 41.25\\nentropy = 0.414\\nsamples = 12\\nvalue = [11, 1]'),\n",
       " Text(0.3761194029850746, 0.6052631578947368, 'entropy = 0.0\\nsamples = 11\\nvalue = [11, 0]'),\n",
       " Text(0.4, 0.6052631578947368, 'entropy = 0.0\\nsamples = 1\\nvalue = [0, 1]'),\n",
       " Text(0.4597014925373134, 0.7105263157894737, 'X[0] <= 5.0\\nentropy = 0.738\\nsamples = 24\\nvalue = [5, 19]'),\n",
       " Text(0.44776119402985076, 0.6578947368421053, 'X[2] <= 69.0\\nentropy = 0.994\\nsamples = 11\\nvalue = [5, 6]'),\n",
       " Text(0.42388059701492536, 0.6052631578947368, 'X[1] <= 121.0\\nentropy = 0.722\\nsamples = 5\\nvalue = [4, 1]'),\n",
       " Text(0.41194029850746267, 0.5526315789473685, 'entropy = 0.0\\nsamples = 4\\nvalue = [4, 0]'),\n",
       " Text(0.43582089552238806, 0.5526315789473685, 'entropy = 0.0\\nsamples = 1\\nvalue = [0, 1]'),\n",
       " Text(0.4716417910447761, 0.6052631578947368, 'X[3] <= 47.5\\nentropy = 0.65\\nsamples = 6\\nvalue = [1, 5]'),\n",
       " Text(0.4597014925373134, 0.5526315789473685, 'entropy = 0.0\\nsamples = 5\\nvalue = [0, 5]'),\n",
       " Text(0.4835820895522388, 0.5526315789473685, 'entropy = 0.0\\nsamples = 1\\nvalue = [1, 0]'),\n",
       " Text(0.4716417910447761, 0.6578947368421053, 'entropy = 0.0\\nsamples = 13\\nvalue = [0, 13]'),\n",
       " Text(0.8297574626865671, 0.9210526315789473, 'X[1] <= 165.5\\nentropy = 0.948\\nsamples = 224\\nvalue = [82, 142]'),\n",
       " Text(0.6893656716417911, 0.868421052631579, 'X[5] <= 27.85\\nentropy = 0.997\\nsamples = 158\\nvalue = [74, 84]'),\n",
       " Text(0.5552238805970149, 0.8157894736842105, 'X[0] <= 1.5\\nentropy = 0.764\\nsamples = 36\\nvalue = [28, 8]'),\n",
       " Text(0.5432835820895522, 0.7631578947368421, 'entropy = 0.0\\nsamples = 10\\nvalue = [10, 0]'),\n",
       " Text(0.5671641791044776, 0.7631578947368421, 'X[1] <= 145.5\\nentropy = 0.89\\nsamples = 26\\nvalue = [18, 8]'),\n",
       " Text(0.5432835820895522, 0.7105263157894737, 'X[2] <= 73.0\\nentropy = 0.65\\nsamples = 18\\nvalue = [15, 3]'),\n",
       " Text(0.5313432835820896, 0.6578947368421053, 'X[0] <= 5.0\\nentropy = 0.954\\nsamples = 8\\nvalue = [5, 3]'),\n",
       " Text(0.5194029850746269, 0.6052631578947368, 'X[4] <= 121.5\\nentropy = 1.0\\nsamples = 6\\nvalue = [3, 3]'),\n",
       " Text(0.5074626865671642, 0.5526315789473685, 'X[5] <= 23.45\\nentropy = 0.811\\nsamples = 4\\nvalue = [1, 3]'),\n",
       " Text(0.4955223880597015, 0.5, 'entropy = 0.0\\nsamples = 1\\nvalue = [1, 0]'),\n",
       " Text(0.5194029850746269, 0.5, 'entropy = 0.0\\nsamples = 3\\nvalue = [0, 3]'),\n",
       " Text(0.5313432835820896, 0.5526315789473685, 'entropy = 0.0\\nsamples = 2\\nvalue = [2, 0]'),\n",
       " Text(0.5432835820895522, 0.6052631578947368, 'entropy = 0.0\\nsamples = 2\\nvalue = [2, 0]'),\n",
       " Text(0.5552238805970149, 0.6578947368421053, 'entropy = 0.0\\nsamples = 10\\nvalue = [10, 0]'),\n",
       " Text(0.591044776119403, 0.7105263157894737, 'X[4] <= 14.5\\nentropy = 0.954\\nsamples = 8\\nvalue = [3, 5]'),\n",
       " Text(0.5791044776119403, 0.6578947368421053, 'X[2] <= 63.0\\nentropy = 1.0\\nsamples = 6\\nvalue = [3, 3]'),\n",
       " Text(0.5671641791044776, 0.6052631578947368, 'entropy = 0.0\\nsamples = 2\\nvalue = [0, 2]'),\n",
       " Text(0.591044776119403, 0.6052631578947368, 'X[2] <= 85.0\\nentropy = 0.811\\nsamples = 4\\nvalue = [3, 1]'),\n",
       " Text(0.5791044776119403, 0.5526315789473685, 'entropy = 0.0\\nsamples = 3\\nvalue = [3, 0]'),\n",
       " Text(0.6029850746268657, 0.5526315789473685, 'entropy = 0.0\\nsamples = 1\\nvalue = [0, 1]'),\n",
       " Text(0.6029850746268657, 0.6578947368421053, 'entropy = 0.0\\nsamples = 2\\nvalue = [0, 2]'),\n",
       " Text(0.8235074626865672, 0.8157894736842105, 'X[6] <= 0.726\\nentropy = 0.956\\nsamples = 122\\nvalue = [46, 76]'),\n",
       " Text(0.7664179104477612, 0.7631578947368421, 'X[0] <= 7.5\\nentropy = 0.992\\nsamples = 96\\nvalue = [43, 53]'),\n",
       " Text(0.7119402985074627, 0.7105263157894737, 'X[1] <= 163.0\\nentropy = 0.999\\nsamples = 77\\nvalue = [40, 37]'),\n",
       " Text(0.7, 0.6578947368421053, 'X[5] <= 47.2\\nentropy = 1.0\\nsamples = 73\\nvalue = [36, 37]'),\n",
       " Text(0.6880597014925374, 0.6052631578947368, 'X[7] <= 42.5\\nentropy = 0.998\\nsamples = 68\\nvalue = [36, 32]'),\n",
       " Text(0.6268656716417911, 0.5526315789473685, 'X[2] <= 55.0\\nentropy = 0.958\\nsamples = 50\\nvalue = [31, 19]'),\n",
       " Text(0.5940298507462687, 0.5, 'X[7] <= 40.0\\nentropy = 0.65\\nsamples = 6\\nvalue = [1, 5]'),\n",
       " Text(0.582089552238806, 0.4473684210526316, 'entropy = 0.0\\nsamples = 5\\nvalue = [0, 5]'),\n",
       " Text(0.6059701492537314, 0.4473684210526316, 'entropy = 0.0\\nsamples = 1\\nvalue = [1, 0]'),\n",
       " Text(0.6597014925373135, 0.5, 'X[6] <= 0.285\\nentropy = 0.902\\nsamples = 44\\nvalue = [30, 14]'),\n",
       " Text(0.6298507462686567, 0.4473684210526316, 'X[7] <= 22.5\\nentropy = 0.391\\nsamples = 13\\nvalue = [12, 1]'),\n",
       " Text(0.6179104477611941, 0.39473684210526316, 'X[1] <= 139.5\\nentropy = 1.0\\nsamples = 2\\nvalue = [1, 1]'),\n",
       " Text(0.6059701492537314, 0.34210526315789475, 'entropy = 0.0\\nsamples = 1\\nvalue = [0, 1]'),\n",
       " Text(0.6298507462686567, 0.34210526315789475, 'entropy = 0.0\\nsamples = 1\\nvalue = [1, 0]'),\n",
       " Text(0.6417910447761194, 0.39473684210526316, 'entropy = 0.0\\nsamples = 11\\nvalue = [11, 0]'),\n",
       " Text(0.6895522388059702, 0.4473684210526316, 'X[6] <= 0.559\\nentropy = 0.981\\nsamples = 31\\nvalue = [18, 13]'),\n",
       " Text(0.6656716417910448, 0.39473684210526316, 'X[6] <= 0.483\\nentropy = 0.985\\nsamples = 21\\nvalue = [9, 12]'),\n",
       " Text(0.6537313432835821, 0.34210526315789475, 'X[1] <= 135.5\\nentropy = 0.998\\nsamples = 17\\nvalue = [9, 8]'),\n",
       " Text(0.6417910447761194, 0.2894736842105263, 'entropy = 0.0\\nsamples = 2\\nvalue = [0, 2]'),\n",
       " Text(0.6656716417910448, 0.2894736842105263, 'X[3] <= 31.0\\nentropy = 0.971\\nsamples = 15\\nvalue = [9, 6]'),\n",
       " Text(0.6537313432835821, 0.23684210526315788, 'entropy = 0.0\\nsamples = 4\\nvalue = [4, 0]'),\n",
       " Text(0.6776119402985075, 0.23684210526315788, 'X[3] <= 48.0\\nentropy = 0.994\\nsamples = 11\\nvalue = [5, 6]'),\n",
       " Text(0.6656716417910448, 0.18421052631578946, 'X[7] <= 25.5\\nentropy = 0.918\\nsamples = 9\\nvalue = [3, 6]'),\n",
       " Text(0.6537313432835821, 0.13157894736842105, 'entropy = 0.0\\nsamples = 3\\nvalue = [0, 3]'),\n",
       " Text(0.6776119402985075, 0.13157894736842105, 'X[4] <= 202.0\\nentropy = 1.0\\nsamples = 6\\nvalue = [3, 3]'),\n",
       " Text(0.6656716417910448, 0.07894736842105263, 'X[1] <= 136.5\\nentropy = 0.811\\nsamples = 4\\nvalue = [3, 1]'),\n",
       " Text(0.6537313432835821, 0.02631578947368421, 'entropy = 0.0\\nsamples = 1\\nvalue = [0, 1]'),\n",
       " Text(0.6776119402985075, 0.02631578947368421, 'entropy = 0.0\\nsamples = 3\\nvalue = [3, 0]'),\n",
       " Text(0.6895522388059702, 0.07894736842105263, 'entropy = 0.0\\nsamples = 2\\nvalue = [0, 2]'),\n",
       " Text(0.6895522388059702, 0.18421052631578946, 'entropy = 0.0\\nsamples = 2\\nvalue = [2, 0]'),\n",
       " Text(0.6776119402985075, 0.34210526315789475, 'entropy = 0.0\\nsamples = 4\\nvalue = [0, 4]'),\n",
       " Text(0.7134328358208956, 0.39473684210526316, 'X[2] <= 85.0\\nentropy = 0.469\\nsamples = 10\\nvalue = [9, 1]'),\n",
       " Text(0.7014925373134329, 0.34210526315789475, 'entropy = 0.0\\nsamples = 9\\nvalue = [9, 0]'),\n",
       " Text(0.7253731343283583, 0.34210526315789475, 'entropy = 0.0\\nsamples = 1\\nvalue = [0, 1]'),\n",
       " Text(0.7492537313432835, 0.5526315789473685, 'X[7] <= 59.5\\nentropy = 0.852\\nsamples = 18\\nvalue = [5, 13]'),\n",
       " Text(0.7253731343283583, 0.5, 'X[1] <= 128.5\\nentropy = 0.414\\nsamples = 12\\nvalue = [1, 11]'),\n",
       " Text(0.7134328358208956, 0.4473684210526316, 'entropy = 0.0\\nsamples = 1\\nvalue = [1, 0]'),\n",
       " Text(0.7373134328358208, 0.4473684210526316, 'entropy = 0.0\\nsamples = 11\\nvalue = [0, 11]'),\n",
       " Text(0.7731343283582089, 0.5, 'X[0] <= 4.5\\nentropy = 0.918\\nsamples = 6\\nvalue = [4, 2]'),\n",
       " Text(0.7611940298507462, 0.4473684210526316, 'X[1] <= 144.0\\nentropy = 0.918\\nsamples = 3\\nvalue = [1, 2]'),\n",
       " Text(0.7492537313432835, 0.39473684210526316, 'entropy = 0.0\\nsamples = 1\\nvalue = [1, 0]'),\n",
       " Text(0.7731343283582089, 0.39473684210526316, 'entropy = 0.0\\nsamples = 2\\nvalue = [0, 2]'),\n",
       " Text(0.7850746268656716, 0.4473684210526316, 'entropy = 0.0\\nsamples = 3\\nvalue = [3, 0]'),\n",
       " Text(0.7119402985074627, 0.6052631578947368, 'entropy = 0.0\\nsamples = 5\\nvalue = [0, 5]'),\n",
       " Text(0.7238805970149254, 0.6578947368421053, 'entropy = 0.0\\nsamples = 4\\nvalue = [4, 0]'),\n",
       " Text(0.8208955223880597, 0.7105263157894737, 'X[6] <= 0.431\\nentropy = 0.629\\nsamples = 19\\nvalue = [3, 16]'),\n",
       " Text(0.808955223880597, 0.6578947368421053, 'X[7] <= 37.0\\nentropy = 0.881\\nsamples = 10\\nvalue = [3, 7]'),\n",
       " Text(0.7970149253731343, 0.6052631578947368, 'entropy = 0.0\\nsamples = 1\\nvalue = [1, 0]'),\n",
       " Text(0.8208955223880597, 0.6052631578947368, 'X[1] <= 131.0\\nentropy = 0.764\\nsamples = 9\\nvalue = [2, 7]'),\n",
       " Text(0.808955223880597, 0.5526315789473685, 'entropy = 0.0\\nsamples = 1\\nvalue = [1, 0]'),\n",
       " Text(0.8328358208955224, 0.5526315789473685, 'X[5] <= 31.85\\nentropy = 0.544\\nsamples = 8\\nvalue = [1, 7]'),\n",
       " Text(0.8208955223880597, 0.5, 'X[6] <= 0.212\\nentropy = 0.918\\nsamples = 3\\nvalue = [1, 2]'),\n",
       " Text(0.808955223880597, 0.4473684210526316, 'entropy = 0.0\\nsamples = 1\\nvalue = [1, 0]'),\n",
       " Text(0.8328358208955224, 0.4473684210526316, 'entropy = 0.0\\nsamples = 2\\nvalue = [0, 2]'),\n",
       " Text(0.844776119402985, 0.5, 'entropy = 0.0\\nsamples = 5\\nvalue = [0, 5]'),\n",
       " Text(0.8328358208955224, 0.6578947368421053, 'entropy = 0.0\\nsamples = 9\\nvalue = [0, 9]'),\n",
       " Text(0.8805970149253731, 0.7631578947368421, 'X[4] <= 290.5\\nentropy = 0.516\\nsamples = 26\\nvalue = [3, 23]'),\n",
       " Text(0.8686567164179104, 0.7105263157894737, 'X[6] <= 1.586\\nentropy = 0.25\\nsamples = 24\\nvalue = [1, 23]'),\n",
       " Text(0.8567164179104477, 0.6578947368421053, 'entropy = 0.0\\nsamples = 22\\nvalue = [0, 22]'),\n",
       " Text(0.8805970149253731, 0.6578947368421053, 'X[1] <= 141.5\\nentropy = 1.0\\nsamples = 2\\nvalue = [1, 1]'),\n",
       " Text(0.8686567164179104, 0.6052631578947368, 'entropy = 0.0\\nsamples = 1\\nvalue = [0, 1]'),\n",
       " Text(0.8925373134328358, 0.6052631578947368, 'entropy = 0.0\\nsamples = 1\\nvalue = [1, 0]'),\n",
       " Text(0.8925373134328358, 0.7105263157894737, 'entropy = 0.0\\nsamples = 2\\nvalue = [2, 0]'),\n",
       " Text(0.9701492537313433, 0.868421052631579, 'X[6] <= 2.233\\nentropy = 0.533\\nsamples = 66\\nvalue = [8, 58]'),\n",
       " Text(0.9582089552238806, 0.8157894736842105, 'X[3] <= 32.5\\nentropy = 0.493\\nsamples = 65\\nvalue = [7, 58]'),\n",
       " Text(0.9462686567164179, 0.7631578947368421, 'X[1] <= 172.0\\nentropy = 0.669\\nsamples = 40\\nvalue = [7, 33]'),\n",
       " Text(0.9343283582089552, 0.7105263157894737, 'entropy = 0.0\\nsamples = 9\\nvalue = [0, 9]'),\n",
       " Text(0.9582089552238806, 0.7105263157894737, 'X[6] <= 1.337\\nentropy = 0.771\\nsamples = 31\\nvalue = [7, 24]'),\n",
       " Text(0.9462686567164179, 0.6578947368421053, 'X[3] <= 30.5\\nentropy = 0.722\\nsamples = 30\\nvalue = [6, 24]'),\n",
       " Text(0.9164179104477612, 0.6052631578947368, 'X[6] <= 0.307\\nentropy = 0.605\\nsamples = 27\\nvalue = [4, 23]'),\n",
       " Text(0.8925373134328358, 0.5526315789473685, 'X[7] <= 39.0\\nentropy = 0.954\\nsamples = 8\\nvalue = [3, 5]'),\n",
       " Text(0.8805970149253731, 0.5, 'X[5] <= 29.65\\nentropy = 0.811\\nsamples = 4\\nvalue = [3, 1]'),\n",
       " Text(0.8686567164179104, 0.4473684210526316, 'entropy = 0.0\\nsamples = 1\\nvalue = [0, 1]'),\n",
       " Text(0.8925373134328358, 0.4473684210526316, 'entropy = 0.0\\nsamples = 3\\nvalue = [3, 0]'),\n",
       " Text(0.9044776119402985, 0.5, 'entropy = 0.0\\nsamples = 4\\nvalue = [0, 4]'),\n",
       " Text(0.9402985074626866, 0.5526315789473685, 'X[7] <= 63.0\\nentropy = 0.297\\nsamples = 19\\nvalue = [1, 18]'),\n",
       " Text(0.9283582089552239, 0.5, 'entropy = 0.0\\nsamples = 18\\nvalue = [0, 18]'),\n",
       " Text(0.9522388059701492, 0.5, 'entropy = 0.0\\nsamples = 1\\nvalue = [1, 0]'),\n",
       " Text(0.9761194029850746, 0.6052631578947368, 'X[6] <= 0.591\\nentropy = 0.918\\nsamples = 3\\nvalue = [2, 1]'),\n",
       " Text(0.9641791044776119, 0.5526315789473685, 'entropy = 0.0\\nsamples = 1\\nvalue = [0, 1]'),\n",
       " Text(0.9880597014925373, 0.5526315789473685, 'entropy = 0.0\\nsamples = 2\\nvalue = [2, 0]'),\n",
       " Text(0.9701492537313433, 0.6578947368421053, 'entropy = 0.0\\nsamples = 1\\nvalue = [1, 0]'),\n",
       " Text(0.9701492537313433, 0.7631578947368421, 'entropy = 0.0\\nsamples = 25\\nvalue = [0, 25]'),\n",
       " Text(0.982089552238806, 0.8157894736842105, 'entropy = 0.0\\nsamples = 1\\nvalue = [1, 0]')]"
      ]
     },
     "execution_count": 25,
     "metadata": {},
     "output_type": "execute_result"
    },
    {
     "data": {
      "image/png": "[encoded data removed]",
      "text/plain": [
       "<Figure size 640x480 with 1 Axes>"
      ]
     },
     "metadata": {},
     "output_type": "display_data"
    }
   ],
   "source": [
    "from sklearn import tree\n",
    "tree.plot_tree(dt_clf)"
   ]
  },
  {
   "cell_type": "code",
   "execution_count": 26,
   "id": "5320c77e",
   "metadata": {},
   "outputs": [
    {
     "data": {
      "text/plain": [
       "[Text(0.4753264925373134, 0.9736842105263158, 'X[1] <= 127.5\\nentropy = 0.946\\nsamples = 576\\nvalue = [366, 210]'),\n",
       " Text(0.1208955223880597, 0.9210526315789473, 'X[5] <= 26.45\\nentropy = 0.708\\nsamples = 352\\nvalue = [284, 68]'),\n",
       " Text(0.03582089552238806, 0.868421052631579, 'X[5] <= 9.1\\nentropy = 0.139\\nsamples = 102\\nvalue = [100, 2]'),\n",
       " Text(0.023880597014925373, 0.8157894736842105, 'X[7] <= 28.0\\nentropy = 0.764\\nsamples = 9\\nvalue = [7, 2]'),\n",
       " Text(0.011940298507462687, 0.7631578947368421, 'entropy = 0.0\\nsamples = 7\\nvalue = [7, 0]'),\n",
       " Text(0.03582089552238806, 0.7631578947368421, 'entropy = 0.0\\nsamples = 2\\nvalue = [0, 2]'),\n",
       " Text(0.04776119402985075, 0.8157894736842105, 'entropy = 0.0\\nsamples = 93\\nvalue = [93, 0]'),\n",
       " Text(0.20597014925373133, 0.868421052631579, 'X[7] <= 28.5\\nentropy = 0.833\\nsamples = 250\\nvalue = [184, 66]'),\n",
       " Text(0.07164179104477612, 0.8157894736842105, 'X[5] <= 45.4\\nentropy = 0.552\\nsamples = 125\\nvalue = [109, 16]'),\n",
       " Text(0.05970149253731343, 0.7631578947368421, 'X[5] <= 30.9\\nentropy = 0.489\\nsamples = 122\\nvalue = [109, 13]'),\n",
       " Text(0.04776119402985075, 0.7105263157894737, 'entropy = 0.0\\nsamples = 38\\nvalue = [38, 0]'),\n",
       " Text(0.07164179104477612, 0.7105263157894737, 'X[6] <= 0.501\\nentropy = 0.622\\nsamples = 84\\nvalue = [71, 13]'),\n",
       " Text(0.041791044776119404, 0.6578947368421053, 'X[2] <= 53.0\\nentropy = 0.402\\nsamples = 50\\nvalue = [46, 4]'),\n",
       " Text(0.029850746268656716, 0.6052631578947368, 'entropy = 0.0\\nsamples = 3\\nvalue = [0, 3]'),\n",
       " Text(0.05373134328358209, 0.6052631578947368, 'X[3] <= 8.0\\nentropy = 0.149\\nsamples = 47\\nvalue = [46, 1]'),\n",
       " Text(0.041791044776119404, 0.5526315789473685, 'X[7] <= 23.5\\nentropy = 0.65\\nsamples = 6\\nvalue = [5, 1]'),\n",
       " Text(0.029850746268656716, 0.5, 'entropy = 0.0\\nsamples = 1\\nvalue = [0, 1]'),\n",
       " Text(0.05373134328358209, 0.5, 'entropy = 0.0\\nsamples = 5\\nvalue = [5, 0]'),\n",
       " Text(0.06567164179104477, 0.5526315789473685, 'entropy = 0.0\\nsamples = 41\\nvalue = [41, 0]'),\n",
       " Text(0.10149253731343283, 0.6578947368421053, 'X[2] <= 61.0\\nentropy = 0.834\\nsamples = 34\\nvalue = [25, 9]'),\n",
       " Text(0.08955223880597014, 0.6052631578947368, 'entropy = 0.0\\nsamples = 7\\nvalue = [7, 0]'),\n",
       " Text(0.11343283582089553, 0.6052631578947368, 'X[6] <= 0.551\\nentropy = 0.918\\nsamples = 27\\nvalue = [18, 9]'),\n",
       " Text(0.08955223880597014, 0.5526315789473685, 'X[4] <= 149.5\\nentropy = 0.863\\nsamples = 7\\nvalue = [2, 5]'),\n",
       " Text(0.07761194029850746, 0.5, 'entropy = 0.0\\nsamples = 5\\nvalue = [0, 5]'),\n",
       " Text(0.10149253731343283, 0.5, 'entropy = 0.0\\nsamples = 2\\nvalue = [2, 0]'),\n",
       " Text(0.1373134328358209, 0.5526315789473685, 'X[5] <= 32.7\\nentropy = 0.722\\nsamples = 20\\nvalue = [16, 4]'),\n",
       " Text(0.1253731343283582, 0.5, 'entropy = 0.0\\nsamples = 7\\nvalue = [7, 0]'),\n",
       " Text(0.14925373134328357, 0.5, 'X[5] <= 34.35\\nentropy = 0.89\\nsamples = 13\\nvalue = [9, 4]'),\n",
       " Text(0.1373134328358209, 0.4473684210526316, 'entropy = 0.0\\nsamples = 2\\nvalue = [0, 2]'),\n",
       " Text(0.16119402985074627, 0.4473684210526316, 'X[7] <= 23.5\\nentropy = 0.684\\nsamples = 11\\nvalue = [9, 2]'),\n",
       " Text(0.14925373134328357, 0.39473684210526316, 'X[6] <= 0.749\\nentropy = 0.971\\nsamples = 5\\nvalue = [3, 2]'),\n",
       " Text(0.1373134328358209, 0.34210526315789475, 'X[0] <= 2.5\\nentropy = 0.918\\nsamples = 3\\nvalue = [1, 2]'),\n",
       " Text(0.1253731343283582, 0.2894736842105263, 'entropy = 0.0\\nsamples = 2\\nvalue = [0, 2]'),\n",
       " Text(0.14925373134328357, 0.2894736842105263, 'entropy = 0.0\\nsamples = 1\\nvalue = [1, 0]'),\n",
       " Text(0.16119402985074627, 0.34210526315789475, 'entropy = 0.0\\nsamples = 2\\nvalue = [2, 0]'),\n",
       " Text(0.17313432835820897, 0.39473684210526316, 'entropy = 0.0\\nsamples = 6\\nvalue = [6, 0]'),\n",
       " Text(0.08358208955223881, 0.7631578947368421, 'entropy = 0.0\\nsamples = 3\\nvalue = [0, 3]'),\n",
       " Text(0.3402985074626866, 0.8157894736842105, 'X[1] <= 100.5\\nentropy = 0.971\\nsamples = 125\\nvalue = [75, 50]'),\n",
       " Text(0.26865671641791045, 0.7631578947368421, 'X[3] <= 32.5\\nentropy = 0.702\\nsamples = 42\\nvalue = [34, 8]'),\n",
       " Text(0.25671641791044775, 0.7105263157894737, 'X[3] <= 31.5\\nentropy = 0.837\\nsamples = 30\\nvalue = [22, 8]'),\n",
       " Text(0.24477611940298508, 0.6578947368421053, 'X[0] <= 11.0\\nentropy = 0.75\\nsamples = 28\\nvalue = [22, 6]'),\n",
       " Text(0.2208955223880597, 0.6052631578947368, 'X[0] <= 5.5\\nentropy = 0.544\\nsamples = 24\\nvalue = [21, 3]'),\n",
       " Text(0.208955223880597, 0.5526315789473685, 'X[7] <= 47.5\\nentropy = 0.811\\nsamples = 12\\nvalue = [9, 3]'),\n",
       " Text(0.19701492537313434, 0.5, 'X[6] <= 0.182\\nentropy = 0.684\\nsamples = 11\\nvalue = [9, 2]'),\n",
       " Text(0.18507462686567164, 0.4473684210526316, 'entropy = 0.0\\nsamples = 1\\nvalue = [0, 1]'),\n",
       " Text(0.208955223880597, 0.4473684210526316, 'X[6] <= 1.11\\nentropy = 0.469\\nsamples = 10\\nvalue = [9, 1]'),\n",
       " Text(0.19701492537313434, 0.39473684210526316, 'entropy = 0.0\\nsamples = 9\\nvalue = [9, 0]'),\n",
       " Text(0.2208955223880597, 0.39473684210526316, 'entropy = 0.0\\nsamples = 1\\nvalue = [0, 1]'),\n",
       " Text(0.2208955223880597, 0.5, 'entropy = 0.0\\nsamples = 1\\nvalue = [0, 1]'),\n",
       " Text(0.23283582089552238, 0.5526315789473685, 'entropy = 0.0\\nsamples = 12\\nvalue = [12, 0]'),\n",
       " Text(0.26865671641791045, 0.6052631578947368, 'X[3] <= 3.5\\nentropy = 0.811\\nsamples = 4\\nvalue = [1, 3]'),\n",
       " Text(0.25671641791044775, 0.5526315789473685, 'entropy = 0.0\\nsamples = 1\\nvalue = [1, 0]'),\n",
       " Text(0.28059701492537314, 0.5526315789473685, 'entropy = 0.0\\nsamples = 3\\nvalue = [0, 3]'),\n",
       " Text(0.26865671641791045, 0.6578947368421053, 'entropy = 0.0\\nsamples = 2\\nvalue = [0, 2]'),\n",
       " Text(0.28059701492537314, 0.7105263157894737, 'entropy = 0.0\\nsamples = 12\\nvalue = [12, 0]'),\n",
       " Text(0.41194029850746267, 0.7631578947368421, 'X[6] <= 0.561\\nentropy = 1.0\\nsamples = 83\\nvalue = [41, 42]'),\n",
       " Text(0.3641791044776119, 0.7105263157894737, 'X[2] <= 84.0\\nentropy = 0.965\\nsamples = 59\\nvalue = [36, 23]'),\n",
       " Text(0.3402985074626866, 0.6578947368421053, 'X[3] <= 39.5\\nentropy = 0.997\\nsamples = 47\\nvalue = [25, 22]'),\n",
       " Text(0.3283582089552239, 0.6052631578947368, 'X[6] <= 0.387\\nentropy = 0.998\\nsamples = 42\\nvalue = [20, 22]'),\n",
       " Text(0.3044776119402985, 0.5526315789473685, 'X[6] <= 0.288\\nentropy = 0.954\\nsamples = 32\\nvalue = [12, 20]'),\n",
       " Text(0.29253731343283584, 0.5, 'X[0] <= 3.5\\nentropy = 0.999\\nsamples = 25\\nvalue = [12, 13]'),\n",
       " Text(0.28059701492537314, 0.4473684210526316, 'entropy = 0.0\\nsamples = 4\\nvalue = [4, 0]'),\n",
       " Text(0.3044776119402985, 0.4473684210526316, 'X[7] <= 45.0\\nentropy = 0.959\\nsamples = 21\\nvalue = [8, 13]'),\n",
       " Text(0.28059701492537314, 0.39473684210526316, 'X[6] <= 0.138\\nentropy = 0.811\\nsamples = 16\\nvalue = [4, 12]'),\n",
       " Text(0.26865671641791045, 0.34210526315789475, 'entropy = 0.0\\nsamples = 2\\nvalue = [2, 0]'),\n",
       " Text(0.29253731343283584, 0.34210526315789475, 'X[1] <= 121.0\\nentropy = 0.592\\nsamples = 14\\nvalue = [2, 12]'),\n",
       " Text(0.28059701492537314, 0.2894736842105263, 'entropy = 0.0\\nsamples = 9\\nvalue = [0, 9]'),\n",
       " Text(0.3044776119402985, 0.2894736842105263, 'X[6] <= 0.242\\nentropy = 0.971\\nsamples = 5\\nvalue = [2, 3]'),\n",
       " Text(0.29253731343283584, 0.23684210526315788, 'entropy = 0.0\\nsamples = 3\\nvalue = [0, 3]'),\n",
       " Text(0.3164179104477612, 0.23684210526315788, 'entropy = 0.0\\nsamples = 2\\nvalue = [2, 0]'),\n",
       " Text(0.3283582089552239, 0.39473684210526316, 'X[6] <= 0.137\\nentropy = 0.722\\nsamples = 5\\nvalue = [4, 1]'),\n",
       " Text(0.3164179104477612, 0.34210526315789475, 'entropy = 0.0\\nsamples = 1\\nvalue = [0, 1]'),\n",
       " Text(0.3402985074626866, 0.34210526315789475, 'entropy = 0.0\\nsamples = 4\\nvalue = [4, 0]'),\n",
       " Text(0.3164179104477612, 0.5, 'entropy = 0.0\\nsamples = 7\\nvalue = [0, 7]'),\n",
       " Text(0.3522388059701492, 0.5526315789473685, 'X[1] <= 117.5\\nentropy = 0.722\\nsamples = 10\\nvalue = [8, 2]'),\n",
       " Text(0.3402985074626866, 0.5, 'X[2] <= 68.0\\nentropy = 1.0\\nsamples = 4\\nvalue = [2, 2]'),\n",
       " Text(0.3283582089552239, 0.4473684210526316, 'entropy = 0.0\\nsamples = 2\\nvalue = [2, 0]'),\n",
       " Text(0.3522388059701492, 0.4473684210526316, 'entropy = 0.0\\nsamples = 2\\nvalue = [0, 2]'),\n",
       " Text(0.3641791044776119, 0.5, 'entropy = 0.0\\nsamples = 6\\nvalue = [6, 0]'),\n",
       " Text(0.3522388059701492, 0.6052631578947368, 'entropy = 0.0\\nsamples = 5\\nvalue = [5, 0]'),\n",
       " Text(0.3880597014925373, 0.6578947368421053, 'X[5] <= 41.25\\nentropy = 0.414\\nsamples = 12\\nvalue = [11, 1]'),\n",
       " Text(0.3761194029850746, 0.6052631578947368, 'entropy = 0.0\\nsamples = 11\\nvalue = [11, 0]'),\n",
       " Text(0.4, 0.6052631578947368, 'entropy = 0.0\\nsamples = 1\\nvalue = [0, 1]'),\n",
       " Text(0.4597014925373134, 0.7105263157894737, 'X[0] <= 5.0\\nentropy = 0.738\\nsamples = 24\\nvalue = [5, 19]'),\n",
       " Text(0.44776119402985076, 0.6578947368421053, 'X[2] <= 69.0\\nentropy = 0.994\\nsamples = 11\\nvalue = [5, 6]'),\n",
       " Text(0.42388059701492536, 0.6052631578947368, 'X[1] <= 121.0\\nentropy = 0.722\\nsamples = 5\\nvalue = [4, 1]'),\n",
       " Text(0.41194029850746267, 0.5526315789473685, 'entropy = 0.0\\nsamples = 4\\nvalue = [4, 0]'),\n",
       " Text(0.43582089552238806, 0.5526315789473685, 'entropy = 0.0\\nsamples = 1\\nvalue = [0, 1]'),\n",
       " Text(0.4716417910447761, 0.6052631578947368, 'X[3] <= 47.5\\nentropy = 0.65\\nsamples = 6\\nvalue = [1, 5]'),\n",
       " Text(0.4597014925373134, 0.5526315789473685, 'entropy = 0.0\\nsamples = 5\\nvalue = [0, 5]'),\n",
       " Text(0.4835820895522388, 0.5526315789473685, 'entropy = 0.0\\nsamples = 1\\nvalue = [1, 0]'),\n",
       " Text(0.4716417910447761, 0.6578947368421053, 'entropy = 0.0\\nsamples = 13\\nvalue = [0, 13]'),\n",
       " Text(0.8297574626865671, 0.9210526315789473, 'X[1] <= 165.5\\nentropy = 0.948\\nsamples = 224\\nvalue = [82, 142]'),\n",
       " Text(0.6893656716417911, 0.868421052631579, 'X[5] <= 27.85\\nentropy = 0.997\\nsamples = 158\\nvalue = [74, 84]'),\n",
       " Text(0.5552238805970149, 0.8157894736842105, 'X[0] <= 1.5\\nentropy = 0.764\\nsamples = 36\\nvalue = [28, 8]'),\n",
       " Text(0.5432835820895522, 0.7631578947368421, 'entropy = 0.0\\nsamples = 10\\nvalue = [10, 0]'),\n",
       " Text(0.5671641791044776, 0.7631578947368421, 'X[1] <= 145.5\\nentropy = 0.89\\nsamples = 26\\nvalue = [18, 8]'),\n",
       " Text(0.5432835820895522, 0.7105263157894737, 'X[2] <= 73.0\\nentropy = 0.65\\nsamples = 18\\nvalue = [15, 3]'),\n",
       " Text(0.5313432835820896, 0.6578947368421053, 'X[0] <= 5.0\\nentropy = 0.954\\nsamples = 8\\nvalue = [5, 3]'),\n",
       " Text(0.5194029850746269, 0.6052631578947368, 'X[4] <= 121.5\\nentropy = 1.0\\nsamples = 6\\nvalue = [3, 3]'),\n",
       " Text(0.5074626865671642, 0.5526315789473685, 'X[5] <= 23.45\\nentropy = 0.811\\nsamples = 4\\nvalue = [1, 3]'),\n",
       " Text(0.4955223880597015, 0.5, 'entropy = 0.0\\nsamples = 1\\nvalue = [1, 0]'),\n",
       " Text(0.5194029850746269, 0.5, 'entropy = 0.0\\nsamples = 3\\nvalue = [0, 3]'),\n",
       " Text(0.5313432835820896, 0.5526315789473685, 'entropy = 0.0\\nsamples = 2\\nvalue = [2, 0]'),\n",
       " Text(0.5432835820895522, 0.6052631578947368, 'entropy = 0.0\\nsamples = 2\\nvalue = [2, 0]'),\n",
       " Text(0.5552238805970149, 0.6578947368421053, 'entropy = 0.0\\nsamples = 10\\nvalue = [10, 0]'),\n",
       " Text(0.591044776119403, 0.7105263157894737, 'X[4] <= 14.5\\nentropy = 0.954\\nsamples = 8\\nvalue = [3, 5]'),\n",
       " Text(0.5791044776119403, 0.6578947368421053, 'X[2] <= 63.0\\nentropy = 1.0\\nsamples = 6\\nvalue = [3, 3]'),\n",
       " Text(0.5671641791044776, 0.6052631578947368, 'entropy = 0.0\\nsamples = 2\\nvalue = [0, 2]'),\n",
       " Text(0.591044776119403, 0.6052631578947368, 'X[2] <= 85.0\\nentropy = 0.811\\nsamples = 4\\nvalue = [3, 1]'),\n",
       " Text(0.5791044776119403, 0.5526315789473685, 'entropy = 0.0\\nsamples = 3\\nvalue = [3, 0]'),\n",
       " Text(0.6029850746268657, 0.5526315789473685, 'entropy = 0.0\\nsamples = 1\\nvalue = [0, 1]'),\n",
       " Text(0.6029850746268657, 0.6578947368421053, 'entropy = 0.0\\nsamples = 2\\nvalue = [0, 2]'),\n",
       " Text(0.8235074626865672, 0.8157894736842105, 'X[6] <= 0.726\\nentropy = 0.956\\nsamples = 122\\nvalue = [46, 76]'),\n",
       " Text(0.7664179104477612, 0.7631578947368421, 'X[0] <= 7.5\\nentropy = 0.992\\nsamples = 96\\nvalue = [43, 53]'),\n",
       " Text(0.7119402985074627, 0.7105263157894737, 'X[1] <= 163.0\\nentropy = 0.999\\nsamples = 77\\nvalue = [40, 37]'),\n",
       " Text(0.7, 0.6578947368421053, 'X[5] <= 47.2\\nentropy = 1.0\\nsamples = 73\\nvalue = [36, 37]'),\n",
       " Text(0.6880597014925374, 0.6052631578947368, 'X[7] <= 42.5\\nentropy = 0.998\\nsamples = 68\\nvalue = [36, 32]'),\n",
       " Text(0.6268656716417911, 0.5526315789473685, 'X[2] <= 55.0\\nentropy = 0.958\\nsamples = 50\\nvalue = [31, 19]'),\n",
       " Text(0.5940298507462687, 0.5, 'X[7] <= 40.0\\nentropy = 0.65\\nsamples = 6\\nvalue = [1, 5]'),\n",
       " Text(0.582089552238806, 0.4473684210526316, 'entropy = 0.0\\nsamples = 5\\nvalue = [0, 5]'),\n",
       " Text(0.6059701492537314, 0.4473684210526316, 'entropy = 0.0\\nsamples = 1\\nvalue = [1, 0]'),\n",
       " Text(0.6597014925373135, 0.5, 'X[6] <= 0.285\\nentropy = 0.902\\nsamples = 44\\nvalue = [30, 14]'),\n",
       " Text(0.6298507462686567, 0.4473684210526316, 'X[7] <= 22.5\\nentropy = 0.391\\nsamples = 13\\nvalue = [12, 1]'),\n",
       " Text(0.6179104477611941, 0.39473684210526316, 'X[1] <= 139.5\\nentropy = 1.0\\nsamples = 2\\nvalue = [1, 1]'),\n",
       " Text(0.6059701492537314, 0.34210526315789475, 'entropy = 0.0\\nsamples = 1\\nvalue = [0, 1]'),\n",
       " Text(0.6298507462686567, 0.34210526315789475, 'entropy = 0.0\\nsamples = 1\\nvalue = [1, 0]'),\n",
       " Text(0.6417910447761194, 0.39473684210526316, 'entropy = 0.0\\nsamples = 11\\nvalue = [11, 0]'),\n",
       " Text(0.6895522388059702, 0.4473684210526316, 'X[6] <= 0.559\\nentropy = 0.981\\nsamples = 31\\nvalue = [18, 13]'),\n",
       " Text(0.6656716417910448, 0.39473684210526316, 'X[6] <= 0.483\\nentropy = 0.985\\nsamples = 21\\nvalue = [9, 12]'),\n",
       " Text(0.6537313432835821, 0.34210526315789475, 'X[1] <= 135.5\\nentropy = 0.998\\nsamples = 17\\nvalue = [9, 8]'),\n",
       " Text(0.6417910447761194, 0.2894736842105263, 'entropy = 0.0\\nsamples = 2\\nvalue = [0, 2]'),\n",
       " Text(0.6656716417910448, 0.2894736842105263, 'X[3] <= 31.0\\nentropy = 0.971\\nsamples = 15\\nvalue = [9, 6]'),\n",
       " Text(0.6537313432835821, 0.23684210526315788, 'entropy = 0.0\\nsamples = 4\\nvalue = [4, 0]'),\n",
       " Text(0.6776119402985075, 0.23684210526315788, 'X[3] <= 48.0\\nentropy = 0.994\\nsamples = 11\\nvalue = [5, 6]'),\n",
       " Text(0.6656716417910448, 0.18421052631578946, 'X[7] <= 25.5\\nentropy = 0.918\\nsamples = 9\\nvalue = [3, 6]'),\n",
       " Text(0.6537313432835821, 0.13157894736842105, 'entropy = 0.0\\nsamples = 3\\nvalue = [0, 3]'),\n",
       " Text(0.6776119402985075, 0.13157894736842105, 'X[4] <= 202.0\\nentropy = 1.0\\nsamples = 6\\nvalue = [3, 3]'),\n",
       " Text(0.6656716417910448, 0.07894736842105263, 'X[1] <= 136.5\\nentropy = 0.811\\nsamples = 4\\nvalue = [3, 1]'),\n",
       " Text(0.6537313432835821, 0.02631578947368421, 'entropy = 0.0\\nsamples = 1\\nvalue = [0, 1]'),\n",
       " Text(0.6776119402985075, 0.02631578947368421, 'entropy = 0.0\\nsamples = 3\\nvalue = [3, 0]'),\n",
       " Text(0.6895522388059702, 0.07894736842105263, 'entropy = 0.0\\nsamples = 2\\nvalue = [0, 2]'),\n",
       " Text(0.6895522388059702, 0.18421052631578946, 'entropy = 0.0\\nsamples = 2\\nvalue = [2, 0]'),\n",
       " Text(0.6776119402985075, 0.34210526315789475, 'entropy = 0.0\\nsamples = 4\\nvalue = [0, 4]'),\n",
       " Text(0.7134328358208956, 0.39473684210526316, 'X[2] <= 85.0\\nentropy = 0.469\\nsamples = 10\\nvalue = [9, 1]'),\n",
       " Text(0.7014925373134329, 0.34210526315789475, 'entropy = 0.0\\nsamples = 9\\nvalue = [9, 0]'),\n",
       " Text(0.7253731343283583, 0.34210526315789475, 'entropy = 0.0\\nsamples = 1\\nvalue = [0, 1]'),\n",
       " Text(0.7492537313432835, 0.5526315789473685, 'X[7] <= 59.5\\nentropy = 0.852\\nsamples = 18\\nvalue = [5, 13]'),\n",
       " Text(0.7253731343283583, 0.5, 'X[1] <= 128.5\\nentropy = 0.414\\nsamples = 12\\nvalue = [1, 11]'),\n",
       " Text(0.7134328358208956, 0.4473684210526316, 'entropy = 0.0\\nsamples = 1\\nvalue = [1, 0]'),\n",
       " Text(0.7373134328358208, 0.4473684210526316, 'entropy = 0.0\\nsamples = 11\\nvalue = [0, 11]'),\n",
       " Text(0.7731343283582089, 0.5, 'X[0] <= 4.5\\nentropy = 0.918\\nsamples = 6\\nvalue = [4, 2]'),\n",
       " Text(0.7611940298507462, 0.4473684210526316, 'X[1] <= 144.0\\nentropy = 0.918\\nsamples = 3\\nvalue = [1, 2]'),\n",
       " Text(0.7492537313432835, 0.39473684210526316, 'entropy = 0.0\\nsamples = 1\\nvalue = [1, 0]'),\n",
       " Text(0.7731343283582089, 0.39473684210526316, 'entropy = 0.0\\nsamples = 2\\nvalue = [0, 2]'),\n",
       " Text(0.7850746268656716, 0.4473684210526316, 'entropy = 0.0\\nsamples = 3\\nvalue = [3, 0]'),\n",
       " Text(0.7119402985074627, 0.6052631578947368, 'entropy = 0.0\\nsamples = 5\\nvalue = [0, 5]'),\n",
       " Text(0.7238805970149254, 0.6578947368421053, 'entropy = 0.0\\nsamples = 4\\nvalue = [4, 0]'),\n",
       " Text(0.8208955223880597, 0.7105263157894737, 'X[6] <= 0.431\\nentropy = 0.629\\nsamples = 19\\nvalue = [3, 16]'),\n",
       " Text(0.808955223880597, 0.6578947368421053, 'X[7] <= 37.0\\nentropy = 0.881\\nsamples = 10\\nvalue = [3, 7]'),\n",
       " Text(0.7970149253731343, 0.6052631578947368, 'entropy = 0.0\\nsamples = 1\\nvalue = [1, 0]'),\n",
       " Text(0.8208955223880597, 0.6052631578947368, 'X[1] <= 131.0\\nentropy = 0.764\\nsamples = 9\\nvalue = [2, 7]'),\n",
       " Text(0.808955223880597, 0.5526315789473685, 'entropy = 0.0\\nsamples = 1\\nvalue = [1, 0]'),\n",
       " Text(0.8328358208955224, 0.5526315789473685, 'X[5] <= 31.85\\nentropy = 0.544\\nsamples = 8\\nvalue = [1, 7]'),\n",
       " Text(0.8208955223880597, 0.5, 'X[6] <= 0.212\\nentropy = 0.918\\nsamples = 3\\nvalue = [1, 2]'),\n",
       " Text(0.808955223880597, 0.4473684210526316, 'entropy = 0.0\\nsamples = 1\\nvalue = [1, 0]'),\n",
       " Text(0.8328358208955224, 0.4473684210526316, 'entropy = 0.0\\nsamples = 2\\nvalue = [0, 2]'),\n",
       " Text(0.844776119402985, 0.5, 'entropy = 0.0\\nsamples = 5\\nvalue = [0, 5]'),\n",
       " Text(0.8328358208955224, 0.6578947368421053, 'entropy = 0.0\\nsamples = 9\\nvalue = [0, 9]'),\n",
       " Text(0.8805970149253731, 0.7631578947368421, 'X[4] <= 290.5\\nentropy = 0.516\\nsamples = 26\\nvalue = [3, 23]'),\n",
       " Text(0.8686567164179104, 0.7105263157894737, 'X[6] <= 1.586\\nentropy = 0.25\\nsamples = 24\\nvalue = [1, 23]'),\n",
       " Text(0.8567164179104477, 0.6578947368421053, 'entropy = 0.0\\nsamples = 22\\nvalue = [0, 22]'),\n",
       " Text(0.8805970149253731, 0.6578947368421053, 'X[1] <= 141.5\\nentropy = 1.0\\nsamples = 2\\nvalue = [1, 1]'),\n",
       " Text(0.8686567164179104, 0.6052631578947368, 'entropy = 0.0\\nsamples = 1\\nvalue = [0, 1]'),\n",
       " Text(0.8925373134328358, 0.6052631578947368, 'entropy = 0.0\\nsamples = 1\\nvalue = [1, 0]'),\n",
       " Text(0.8925373134328358, 0.7105263157894737, 'entropy = 0.0\\nsamples = 2\\nvalue = [2, 0]'),\n",
       " Text(0.9701492537313433, 0.868421052631579, 'X[6] <= 2.233\\nentropy = 0.533\\nsamples = 66\\nvalue = [8, 58]'),\n",
       " Text(0.9582089552238806, 0.8157894736842105, 'X[3] <= 32.5\\nentropy = 0.493\\nsamples = 65\\nvalue = [7, 58]'),\n",
       " Text(0.9462686567164179, 0.7631578947368421, 'X[1] <= 172.0\\nentropy = 0.669\\nsamples = 40\\nvalue = [7, 33]'),\n",
       " Text(0.9343283582089552, 0.7105263157894737, 'entropy = 0.0\\nsamples = 9\\nvalue = [0, 9]'),\n",
       " Text(0.9582089552238806, 0.7105263157894737, 'X[6] <= 1.337\\nentropy = 0.771\\nsamples = 31\\nvalue = [7, 24]'),\n",
       " Text(0.9462686567164179, 0.6578947368421053, 'X[3] <= 30.5\\nentropy = 0.722\\nsamples = 30\\nvalue = [6, 24]'),\n",
       " Text(0.9164179104477612, 0.6052631578947368, 'X[6] <= 0.307\\nentropy = 0.605\\nsamples = 27\\nvalue = [4, 23]'),\n",
       " Text(0.8925373134328358, 0.5526315789473685, 'X[7] <= 39.0\\nentropy = 0.954\\nsamples = 8\\nvalue = [3, 5]'),\n",
       " Text(0.8805970149253731, 0.5, 'X[5] <= 29.65\\nentropy = 0.811\\nsamples = 4\\nvalue = [3, 1]'),\n",
       " Text(0.8686567164179104, 0.4473684210526316, 'entropy = 0.0\\nsamples = 1\\nvalue = [0, 1]'),\n",
       " Text(0.8925373134328358, 0.4473684210526316, 'entropy = 0.0\\nsamples = 3\\nvalue = [3, 0]'),\n",
       " Text(0.9044776119402985, 0.5, 'entropy = 0.0\\nsamples = 4\\nvalue = [0, 4]'),\n",
       " Text(0.9402985074626866, 0.5526315789473685, 'X[7] <= 63.0\\nentropy = 0.297\\nsamples = 19\\nvalue = [1, 18]'),\n",
       " Text(0.9283582089552239, 0.5, 'entropy = 0.0\\nsamples = 18\\nvalue = [0, 18]'),\n",
       " Text(0.9522388059701492, 0.5, 'entropy = 0.0\\nsamples = 1\\nvalue = [1, 0]'),\n",
       " Text(0.9761194029850746, 0.6052631578947368, 'X[6] <= 0.591\\nentropy = 0.918\\nsamples = 3\\nvalue = [2, 1]'),\n",
       " Text(0.9641791044776119, 0.5526315789473685, 'entropy = 0.0\\nsamples = 1\\nvalue = [0, 1]'),\n",
       " Text(0.9880597014925373, 0.5526315789473685, 'entropy = 0.0\\nsamples = 2\\nvalue = [2, 0]'),\n",
       " Text(0.9701492537313433, 0.6578947368421053, 'entropy = 0.0\\nsamples = 1\\nvalue = [1, 0]'),\n",
       " Text(0.9701492537313433, 0.7631578947368421, 'entropy = 0.0\\nsamples = 25\\nvalue = [0, 25]'),\n",
       " Text(0.982089552238806, 0.8157894736842105, 'entropy = 0.0\\nsamples = 1\\nvalue = [1, 0]')]"
      ]
     },
     "execution_count": 26,
     "metadata": {},
     "output_type": "execute_result"
    },
    {
     "data": {
      "image/png": "[encoded data removed]",
      "text/plain": [
       "<Figure size 640x480 with 1 Axes>"
      ]
     },
     "metadata": {},
     "output_type": "display_data"
    }
   ],
   "source": [
    "tree.plot_tree(dt_clf)"
   ]
  },
  {
   "cell_type": "code",
   "execution_count": 28,
   "id": "3d7c1603",
   "metadata": {},
   "outputs": [
    {
     "name": "stdout",
     "output_type": "stream",
     "text": [
      "****************************************************************************************************\n",
      "Decision Tree Model\n",
      "****************************************************************************************************\n",
      "\n",
      " Training Phase\n",
      "Hyperparameter: \n",
      " {'ccp_alpha': 0.0, 'class_weight': None, 'criterion': 'entropy', 'max_depth': 2, 'max_features': None, 'max_leaf_nodes': None, 'min_impurity_decrease': 0.0, 'min_samples_leaf': 1, 'min_samples_split': 2, 'min_weight_fraction_leaf': 0.0, 'random_state': None, 'splitter': 'best'}\n",
      "Training Completed\n",
      "====================================================================================================\n",
      "\n",
      " Test Phase\n",
      "Predicted class labels for the test samples: \n",
      " [0 1 0 0 1 0 0 1 0 1 0 0 1 0 0 1 1 0 0 1 1 1 0 0 0 0 1 0 0 0 0 0 0 0 0 1 0\n",
      " 1 1 0 0 0 0 0 0 0 0 0 0 1 1 0 0 1 0 0 1 1 0 0 0 1 1 1 0 1 1 0 0 0 0 0 1 0\n",
      " 0 1 1 0 0 0 0 0 0 0 1 0 0 0 0 1 0 0 0 0 0 1 1 0 1 0 1 1 1 0 0 0 1 0 0 0 0\n",
      " 0 1 0 0 1 0 0 0 0 0 0 0 0 1 1 0 1 1 0 1 0 1 0 0 1 0 1 1 0 0 0 0 0 0 0 0 1\n",
      " 0 0 0 1 1 0 0 0 0 1 0 1 0 0 0 0 1 0 0 1 0 0 0 1 0 0 0 0 1 0 0 0 0 0 1 0 0\n",
      " 0 0 1 0 1 0 0]\n",
      "\n",
      "Testing completed\n",
      "====================================================================================================\n",
      "****************************************************************************************************\n",
      "Decision Tree - Performance Measures\n",
      "****************************************************************************************************\n",
      "Accuracy Score: \t 0.7239583333333334\n",
      "====================================================================================================\n",
      "Confusion Matrics: \n",
      " [[107  27]\n",
      " [ 26  32]]\n",
      "====================================================================================================\n",
      "Classification Report\n",
      "               precision    recall  f1-score   support\n",
      "\n",
      "           0       0.80      0.80      0.80       134\n",
      "           1       0.54      0.55      0.55        58\n",
      "\n",
      "    accuracy                           0.72       192\n",
      "   macro avg       0.67      0.68      0.67       192\n",
      "weighted avg       0.73      0.72      0.72       192\n",
      "\n",
      "====================================================================================================\n"
     ]
    }
   ],
   "source": [
    "from sklearn.tree import DecisionTreeClassifier\n",
    "dt_clf=DecisionTreeClassifier(criterion='entropy',max_depth=2)\n",
    "print('*'*100)\n",
    "print('Decision Tree Model')\n",
    "print('*'*100)\n",
    "print('\\n Training Phase')\n",
    "dt_clf.fit(xtrain,ytrain)\n",
    "print('Hyperparameter: \\n',dt_clf.get_params())\n",
    "print('Training Completed')\n",
    "print('='*100)\n",
    "print('\\n Test Phase')\n",
    "ypred=dt_clf.predict(xtest)\n",
    "print('Predicted class labels for the test samples: \\n',ypred)\n",
    "print()\n",
    "print('Testing completed')\n",
    "print('='*100)\n",
    "\n",
    "\n",
    "#import metrics\n",
    "from sklearn.metrics import accuracy_score\n",
    "from sklearn.metrics import confusion_matrix\n",
    "from sklearn.metrics import classification_report\n",
    "\n",
    "print('*'*100)\n",
    "print('Decision Tree - Performance Measures')\n",
    "print('*'*100)\n",
    "\n",
    "print('Accuracy Score: \\t',accuracy_score(ytest,ypred))\n",
    "print('='*100)\n",
    "print('Confusion Matrics: \\n',confusion_matrix(ytest,ypred))\n",
    "print('='*100)\n",
    "print('Classification Report\\n',classification_report(ytest,ypred))\n",
    "print('='*100)"
   ]
  },
  {
   "cell_type": "code",
   "execution_count": 29,
   "id": "c7f21b31",
   "metadata": {},
   "outputs": [
    {
     "data": {
      "text/plain": [
       "[Text(0.5, 0.8333333333333334, 'X[1] <= 127.5\\nentropy = 0.946\\nsamples = 576\\nvalue = [366, 210]'),\n",
       " Text(0.25, 0.5, 'X[5] <= 26.45\\nentropy = 0.708\\nsamples = 352\\nvalue = [284, 68]'),\n",
       " Text(0.125, 0.16666666666666666, 'entropy = 0.139\\nsamples = 102\\nvalue = [100, 2]'),\n",
       " Text(0.375, 0.16666666666666666, 'entropy = 0.833\\nsamples = 250\\nvalue = [184, 66]'),\n",
       " Text(0.75, 0.5, 'X[1] <= 165.5\\nentropy = 0.948\\nsamples = 224\\nvalue = [82, 142]'),\n",
       " Text(0.625, 0.16666666666666666, 'entropy = 0.997\\nsamples = 158\\nvalue = [74, 84]'),\n",
       " Text(0.875, 0.16666666666666666, 'entropy = 0.533\\nsamples = 66\\nvalue = [8, 58]')]"
      ]
     },
     "execution_count": 29,
     "metadata": {},
     "output_type": "execute_result"
    },
    {
     "data": {
      "image/png": "[encoded data removed]",
      "text/plain": [
       "<Figure size 640x480 with 1 Axes>"
      ]
     },
     "metadata": {},
     "output_type": "display_data"
    }
   ],
   "source": [
    "tree.plot_tree(dt_clf)"
   ]
  },
  {
   "cell_type": "code",
   "execution_count": 32,
   "id": "6b108f7b",
   "metadata": {},
   "outputs": [],
   "source": [
    "from sklearn import tree\n",
    "import graphviz"
   ]
  },
  {
   "cell_type": "code",
   "execution_count": 31,
   "id": "a1e64b6b",
   "metadata": {},
   "outputs": [
    {
     "name": "stdout",
     "output_type": "stream",
     "text": [
      "Collecting graphviz\n",
      "  Downloading graphviz-0.20.1-py3-none-any.whl (47 kB)\n",
      "     ---------------------------------------- 0.0/47.0 kB ? eta -:--:--\n",
      "     -------------------------- ------------- 30.7/47.0 kB ? eta -:--:--\n",
      "     -------------------------------------- 47.0/47.0 kB 782.9 kB/s eta 0:00:00\n",
      "Installing collected packages: graphviz\n",
      "Successfully installed graphviz-0.20.1\n"
     ]
    }
   ],
   "source": [
    "!pip install graphviz"
   ]
  },
  {
   "cell_type": "code",
   "execution_count": 37,
   "id": "f15c927b",
   "metadata": {},
   "outputs": [
    {
     "data": {
      "text/plain": [
       "array(['Pregnancies', 'Glucose', 'BloodPressure', 'SkinThickness',\n",
       "       'Insulin', 'BMI', 'DiabetesPedigreeFunction', 'Age'], dtype=object)"
      ]
     },
     "execution_count": 37,
     "metadata": {},
     "output_type": "execute_result"
    }
   ],
   "source": [
    "dt_clf.feature_names_in_"
   ]
  },
  {
   "cell_type": "code",
   "execution_count": 38,
   "id": "005f8fa0",
   "metadata": {},
   "outputs": [
    {
     "data": {
      "text/plain": [
       "list"
      ]
     },
     "execution_count": 38,
     "metadata": {},
     "output_type": "execute_result"
    }
   ],
   "source": [
    "col_names=['Pregnancies', 'Glucose', 'BloodPressure', 'SkinThickness',\n",
    "       'Insulin', 'BMI', 'DiabetesPedigreeFunction', 'Age']\n",
    "type(col_names)"
   ]
  },
  {
   "cell_type": "code",
   "execution_count": 39,
   "id": "65ff0cc6",
   "metadata": {},
   "outputs": [
    {
     "data": {
      "text/plain": [
       "['0', '1']"
      ]
     },
     "execution_count": 39,
     "metadata": {},
     "output_type": "execute_result"
    }
   ],
   "source": [
    "label_names=['0','1']\n",
    "label_names"
   ]
  },
  {
   "cell_type": "code",
   "execution_count": 41,
   "id": "078c460b",
   "metadata": {},
   "outputs": [],
   "source": [
    "dot_data=tree.export_graphviz(dt_clf,\n",
    "                             feature_names=col_names,\n",
    "                             class_names=['0','1'],\n",
    "                             filled=True,rounded=True,\n",
    "                             special_characters=True)\n",
    "graph=graphviz.Source(dot_data)\n",
    "#graph.render('DT tree')\n",
    "#graph.view"
   ]
  }
 ],
 "metadata": {
  "kernelspec": {
   "display_name": "Python 3 (ipykernel)",
   "language": "python",
   "name": "python3"
  },
  "language_info": {
   "codemirror_mode": {
    "name": "ipython",
    "version": 3
   },
   "file_extension": ".py",
   "mimetype": "text/x-python",
   "name": "python",
   "nbconvert_exporter": "python",
   "pygments_lexer": "ipython3",
   "version": "3.11.4"
  }
 },
 "nbformat": 4,
 "nbformat_minor": 5
}
